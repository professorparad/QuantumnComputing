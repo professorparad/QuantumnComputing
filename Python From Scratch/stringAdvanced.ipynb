{
 "cells": [
  {
   "cell_type": "markdown",
   "id": "19633f7c",
   "metadata": {},
   "source": [
    "## String Indexing "
   ]
  },
  {
   "cell_type": "code",
   "execution_count": 14,
   "id": "0461a35c",
   "metadata": {},
   "outputs": [],
   "source": [
    "myname  = 'Sparsho Chakraborty'\n",
    "## Initializing name "
   ]
  },
  {
   "cell_type": "code",
   "execution_count": 15,
   "id": "f0f75274",
   "metadata": {},
   "outputs": [
    {
     "data": {
      "text/plain": [
       "'arsho Chakraborty'"
      ]
     },
     "execution_count": 15,
     "metadata": {},
     "output_type": "execute_result"
    }
   ],
   "source": [
    "myname[2:]"
   ]
  },
  {
   "cell_type": "code",
   "execution_count": 16,
   "id": "e7e41e0d",
   "metadata": {},
   "outputs": [],
   "source": [
    "## This above process is known as slicing and the paramentre passed inside the string variable is called the index\n"
   ]
  },
  {
   "cell_type": "code",
   "execution_count": 17,
   "id": "706852fd",
   "metadata": {},
   "outputs": [
    {
     "data": {
      "text/plain": [
       "'Sp'"
      ]
     },
     "execution_count": 17,
     "metadata": {},
     "output_type": "execute_result"
    }
   ],
   "source": [
    "myname[:2]\n",
    "## The parametre passed inside the string after the collon is called a stopping index"
   ]
  },
  {
   "cell_type": "code",
   "execution_count": 18,
   "id": "fd7e76db",
   "metadata": {},
   "outputs": [
    {
     "data": {
      "text/plain": [
       "'Sparsho Chakrabort'"
      ]
     },
     "execution_count": 18,
     "metadata": {},
     "output_type": "execute_result"
    }
   ],
   "source": [
    "myname[:-1]\n",
    "## When a negative number is used in the parametre the same thing happens but reversed"
   ]
  },
  {
   "cell_type": "code",
   "execution_count": 19,
   "id": "c4f1585c",
   "metadata": {},
   "outputs": [
    {
     "data": {
      "text/plain": [
       "'ar'"
      ]
     },
     "execution_count": 19,
     "metadata": {},
     "output_type": "execute_result"
    }
   ],
   "source": [
    "myname[2:4]\n",
    "## Giving a starting index and a stopping index to cutoff a definte character list this phenomena is similar to the substring function in java"
   ]
  },
  {
   "cell_type": "code",
   "execution_count": 20,
   "id": "91b0e987",
   "metadata": {},
   "outputs": [
    {
     "data": {
      "text/plain": [
       "'SasoCarbry'"
      ]
     },
     "execution_count": 20,
     "metadata": {},
     "output_type": "execute_result"
    }
   ],
   "source": [
    "myname[::2]\n",
    "## This skips 2 characters at a time "
   ]
  },
  {
   "cell_type": "code",
   "execution_count": 21,
   "id": "5279fd32",
   "metadata": {},
   "outputs": [
    {
     "data": {
      "text/plain": [
       "'ytrobarkahC ohsrapS'"
      ]
     },
     "execution_count": 21,
     "metadata": {},
     "output_type": "execute_result"
    }
   ],
   "source": [
    "myname[::-1]\n",
    "## it reverses the entire string "
   ]
  },
  {
   "cell_type": "code",
   "execution_count": 22,
   "id": "994e40b7",
   "metadata": {},
   "outputs": [
    {
     "data": {
      "text/plain": [
       "'yrbraCosaS'"
      ]
     },
     "execution_count": 22,
     "metadata": {},
     "output_type": "execute_result"
    }
   ],
   "source": [
    "myname[::-2] \n",
    "## it reverses the string and then skips 2 letters at a time"
   ]
  },
  {
   "cell_type": "markdown",
   "id": "a5e66a9b",
   "metadata": {},
   "source": [
    "## String Methods\n"
   ]
  },
  {
   "cell_type": "code",
   "execution_count": 25,
   "id": "93b88625",
   "metadata": {},
   "outputs": [
    {
     "data": {
      "text/plain": [
       "'Sparsho chakraborty'"
      ]
     },
     "execution_count": 25,
     "metadata": {},
     "output_type": "execute_result"
    }
   ],
   "source": [
    "myname.capitalize()\n",
    "## Capitalizes only the first letter"
   ]
  },
  {
   "cell_type": "code",
   "execution_count": 26,
   "id": "429b033d",
   "metadata": {},
   "outputs": [
    {
     "data": {
      "text/plain": [
       "'SPARSHO CHAKRABORTY'"
      ]
     },
     "execution_count": 26,
     "metadata": {},
     "output_type": "execute_result"
    }
   ],
   "source": [
    "myname.upper()"
   ]
  },
  {
   "cell_type": "code",
   "execution_count": 27,
   "id": "3544298c",
   "metadata": {},
   "outputs": [
    {
     "data": {
      "text/plain": [
       "'sparsho chakraborty'"
      ]
     },
     "execution_count": 27,
     "metadata": {},
     "output_type": "execute_result"
    }
   ],
   "source": [
    "myname.lower()\n"
   ]
  },
  {
   "cell_type": "code",
   "execution_count": null,
   "id": "c505f565",
   "metadata": {},
   "outputs": [
    {
     "data": {
      "text/plain": [
       "False"
      ]
     },
     "execution_count": 29,
     "metadata": {},
     "output_type": "execute_result"
    }
   ],
   "source": [
    "myname.isalnum()\n",
    "        ## Boolean expression which checks whether the character or variable is an intege or number or character"
   ]
  },
  {
   "cell_type": "code",
   "execution_count": 30,
   "id": "ebc4f3e2",
   "metadata": {},
   "outputs": [],
   "source": [
    "myname1 = '1234567890'\n"
   ]
  },
  {
   "cell_type": "code",
   "execution_count": 32,
   "id": "b236b150",
   "metadata": {},
   "outputs": [
    {
     "data": {
      "text/plain": [
       "True"
      ]
     },
     "execution_count": 32,
     "metadata": {},
     "output_type": "execute_result"
    }
   ],
   "source": [
    "myname1.isalnum()\n",
    "## As all characters in the string is numbers it gives the value true"
   ]
  },
  {
   "cell_type": "code",
   "execution_count": 42,
   "id": "20492cd0",
   "metadata": {},
   "outputs": [
    {
     "data": {
      "text/plain": [
       "True"
      ]
     },
     "execution_count": 42,
     "metadata": {},
     "output_type": "execute_result"
    }
   ],
   "source": [
    "myname2 = 'Sparsho123'\n",
    "myname2.isalnum()\n",
    "## so as there are numbers this orives that isalnumn function gies true if there are numbers in a string\n"
   ]
  },
  {
   "cell_type": "code",
   "execution_count": 44,
   "id": "5ee39b53",
   "metadata": {},
   "outputs": [
    {
     "data": {
      "text/plain": [
       "False"
      ]
     },
     "execution_count": 44,
     "metadata": {},
     "output_type": "execute_result"
    }
   ],
   "source": [
    "myname2.isdigit()\n",
    "## as there are no integer type function the is digit function gives flase"
   ]
  },
  {
   "cell_type": "code",
   "execution_count": 47,
   "id": "f849c351",
   "metadata": {},
   "outputs": [
    {
     "data": {
      "text/plain": [
       "True"
      ]
     },
     "execution_count": 47,
     "metadata": {},
     "output_type": "execute_result"
    }
   ],
   "source": [
    "myname1.isdigit()\n",
    "## as they are only digits present in the myname1 that is why it gives isdigit true"
   ]
  },
  {
   "cell_type": "code",
   "execution_count": null,
   "id": "5c324285",
   "metadata": {},
   "outputs": [
    {
     "data": {
      "text/plain": [
       "['Sparsho', 'Chakraborty']"
      ]
     },
     "execution_count": 49,
     "metadata": {},
     "output_type": "execute_result"
    }
   ],
   "source": [
    "myname.split()\n",
    "## this results in split a particular string function such that 2 different strings are created and they are stored in a list or an arraay"
   ]
  },
  {
   "cell_type": "code",
   "execution_count": 51,
   "id": "06228904",
   "metadata": {},
   "outputs": [],
   "source": [
    "mynamesplit = myname.split()\n",
    "## as you know that string is immutable in nature so the string variable cannot be change in the original variable as result of which a new variable is introduced in order to save the splu lists.\n"
   ]
  },
  {
   "cell_type": "code",
   "execution_count": 54,
   "id": "d7ea318d",
   "metadata": {},
   "outputs": [
    {
     "data": {
      "text/plain": [
       "'Sparsho'"
      ]
     },
     "execution_count": 54,
     "metadata": {},
     "output_type": "execute_result"
    }
   ],
   "source": [
    "## Now we use the same concept of index in the mynamesplit in odrr to use it.\n",
    "mynamesplit[0]"
   ]
  },
  {
   "cell_type": "code",
   "execution_count": 55,
   "id": "de2e0412",
   "metadata": {},
   "outputs": [],
   "source": [
    "myfirstname = mynamesplit[0]"
   ]
  },
  {
   "cell_type": "code",
   "execution_count": 56,
   "id": "142cfcb8",
   "metadata": {},
   "outputs": [
    {
     "data": {
      "text/plain": [
       "'arsho'"
      ]
     },
     "execution_count": 56,
     "metadata": {},
     "output_type": "execute_result"
    }
   ],
   "source": [
    "myfirstname[2:]"
   ]
  },
  {
   "cell_type": "markdown",
   "id": "86959a1f",
   "metadata": {},
   "source": [
    "## And so on we can continue this thing as long as we want to do after this we will learn Lists "
   ]
  }
 ],
 "metadata": {
  "kernelspec": {
   "display_name": "qenv",
   "language": "python",
   "name": "python3"
  },
  "language_info": {
   "codemirror_mode": {
    "name": "ipython",
    "version": 3
   },
   "file_extension": ".py",
   "mimetype": "text/x-python",
   "name": "python",
   "nbconvert_exporter": "python",
   "pygments_lexer": "ipython3",
   "version": "3.13.5"
  }
 },
 "nbformat": 4,
 "nbformat_minor": 5
}
