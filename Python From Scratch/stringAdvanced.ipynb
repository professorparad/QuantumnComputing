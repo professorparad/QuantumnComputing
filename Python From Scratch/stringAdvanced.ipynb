{
 "cells": [
  {
   "cell_type": "markdown",
   "id": "19633f7c",
   "metadata": {},
   "source": [
    "## String Indexing "
   ]
  },
  {
   "cell_type": "code",
   "execution_count": 14,
   "id": "0461a35c",
   "metadata": {},
   "outputs": [],
   "source": [
    "myname  = 'Sparsho Chakraborty'\n",
    "## Initializing name "
   ]
  },
  {
   "cell_type": "code",
   "execution_count": 15,
   "id": "f0f75274",
   "metadata": {},
   "outputs": [
    {
     "data": {
      "text/plain": [
       "'arsho Chakraborty'"
      ]
     },
     "execution_count": 15,
     "metadata": {},
     "output_type": "execute_result"
    }
   ],
   "source": [
    "myname[2:]"
   ]
  },
  {
   "cell_type": "code",
   "execution_count": 16,
   "id": "e7e41e0d",
   "metadata": {},
   "outputs": [],
   "source": [
    "## This above process is known as slicing and the paramentre passed inside the string variable is called the index\n"
   ]
  },
  {
   "cell_type": "code",
   "execution_count": 17,
   "id": "706852fd",
   "metadata": {},
   "outputs": [
    {
     "data": {
      "text/plain": [
       "'Sp'"
      ]
     },
     "execution_count": 17,
     "metadata": {},
     "output_type": "execute_result"
    }
   ],
   "source": [
    "myname[:2]\n",
    "## The parametre passed inside the string after the collon is called a stopping index"
   ]
  },
  {
   "cell_type": "code",
   "execution_count": 18,
   "id": "fd7e76db",
   "metadata": {},
   "outputs": [
    {
     "data": {
      "text/plain": [
       "'Sparsho Chakrabort'"
      ]
     },
     "execution_count": 18,
     "metadata": {},
     "output_type": "execute_result"
    }
   ],
   "source": [
    "myname[:-1]\n",
    "## When a negative number is used in the parametre the same thing happens but reversed"
   ]
  },
  {
   "cell_type": "code",
   "execution_count": 19,
   "id": "c4f1585c",
   "metadata": {},
   "outputs": [
    {
     "data": {
      "text/plain": [
       "'ar'"
      ]
     },
     "execution_count": 19,
     "metadata": {},
     "output_type": "execute_result"
    }
   ],
   "source": [
    "myname[2:4]\n",
    "## Giving a starting index and a stopping index to cutoff a definte character list this phenomena is similar to the substring function in java"
   ]
  },
  {
   "cell_type": "code",
   "execution_count": 20,
   "id": "91b0e987",
   "metadata": {},
   "outputs": [
    {
     "data": {
      "text/plain": [
       "'SasoCarbry'"
      ]
     },
     "execution_count": 20,
     "metadata": {},
     "output_type": "execute_result"
    }
   ],
   "source": [
    "myname[::2]\n",
    "## This skips 2 characters at a time "
   ]
  },
  {
   "cell_type": "code",
   "execution_count": 21,
   "id": "5279fd32",
   "metadata": {},
   "outputs": [
    {
     "data": {
      "text/plain": [
       "'ytrobarkahC ohsrapS'"
      ]
     },
     "execution_count": 21,
     "metadata": {},
     "output_type": "execute_result"
    }
   ],
   "source": [
    "myname[::-1]\n",
    "## it reverses the entire string "
   ]
  },
  {
   "cell_type": "code",
   "execution_count": 22,
   "id": "994e40b7",
   "metadata": {},
   "outputs": [
    {
     "data": {
      "text/plain": [
       "'yrbraCosaS'"
      ]
     },
     "execution_count": 22,
     "metadata": {},
     "output_type": "execute_result"
    }
   ],
   "source": [
    "myname[::-2] \n",
    "## it reverses the string and then skips 2 letters at a time"
   ]
  },
  {
   "cell_type": "markdown",
   "id": "a5e66a9b",
   "metadata": {},
   "source": [
    "## String Methods\n"
   ]
  },
  {
   "cell_type": "code",
   "execution_count": 25,
   "id": "93b88625",
   "metadata": {},
   "outputs": [
    {
     "data": {
      "text/plain": [
       "'Sparsho chakraborty'"
      ]
     },
     "execution_count": 25,
     "metadata": {},
     "output_type": "execute_result"
    }
   ],
   "source": [
    "myname.capitalize()\n",
    "## Capitalizes only the first letter"
   ]
  },
  {
   "cell_type": "code",
   "execution_count": 26,
   "id": "429b033d",
   "metadata": {},
   "outputs": [
    {
     "data": {
      "text/plain": [
       "'SPARSHO CHAKRABORTY'"
      ]
     },
     "execution_count": 26,
     "metadata": {},
     "output_type": "execute_result"
    }
   ],
   "source": [
    "myname.upper()"
   ]
  },
  {
   "cell_type": "code",
   "execution_count": 27,
   "id": "3544298c",
   "metadata": {},
   "outputs": [
    {
     "data": {
      "text/plain": [
       "'sparsho chakraborty'"
      ]
     },
     "execution_count": 27,
     "metadata": {},
     "output_type": "execute_result"
    }
   ],
   "source": [
    "myname.lower()\n"
   ]
  },
  {
   "cell_type": "code",
   "execution_count": null,
   "id": "c505f565",
   "metadata": {},
   "outputs": [
    {
     "data": {
      "text/plain": [
       "False"
      ]
     },
     "execution_count": 29,
     "metadata": {},
     "output_type": "execute_result"
    }
   ],
   "source": [
    "myname.isalnum()\n",
    "        ## Boolean expression which checks whether the character or variable is an intege or number or character"
   ]
  },
  {
   "cell_type": "code",
   "execution_count": 30,
   "id": "ebc4f3e2",
   "metadata": {},
   "outputs": [],
   "source": [
    "myname1 = '1234567890'\n"
   ]
  },
  {
   "cell_type": "code",
   "execution_count": 32,
   "id": "b236b150",
   "metadata": {},
   "outputs": [
    {
     "data": {
      "text/plain": [
       "True"
      ]
     },
     "execution_count": 32,
     "metadata": {},
     "output_type": "execute_result"
    }
   ],
   "source": [
    "myname1.isalnum()\n",
    "## As all characters in the string is numbers it gives the value true"
   ]
  },
  {
   "cell_type": "code",
   "execution_count": 42,
   "id": "20492cd0",
   "metadata": {},
   "outputs": [
    {
     "data": {
      "text/plain": [
       "True"
      ]
     },
     "execution_count": 42,
     "metadata": {},
     "output_type": "execute_result"
    }
   ],
   "source": [
    "myname2 = 'Sparsho123'\n",
    "myname2.isalnum()\n",
    "## so as there are numbers this orives that isalnumn function gies true if there are numbers in a string\n"
   ]
  },
  {
   "cell_type": "code",
   "execution_count": 44,
   "id": "5ee39b53",
   "metadata": {},
   "outputs": [
    {
     "data": {
      "text/plain": [
       "False"
      ]
     },
     "execution_count": 44,
     "metadata": {},
     "output_type": "execute_result"
    }
   ],
   "source": [
    "myname2.isdigit()\n",
    "## as there are no integer type function the is digit function gives flase"
   ]
  },
  {
   "cell_type": "code",
   "execution_count": 47,
   "id": "f849c351",
   "metadata": {},
   "outputs": [
    {
     "data": {
      "text/plain": [
       "True"
      ]
     },
     "execution_count": 47,
     "metadata": {},
     "output_type": "execute_result"
    }
   ],
   "source": [
    "myname1.isdigit()\n",
    "## as they are only digits present in the myname1 that is why it gives isdigit true"
   ]
  },
  {
   "cell_type": "code",
   "execution_count": null,
   "id": "5c324285",
   "metadata": {},
   "outputs": [
    {
     "data": {
      "text/plain": [
       "['Sparsho', 'Chakraborty']"
      ]
     },
     "execution_count": 49,
     "metadata": {},
     "output_type": "execute_result"
    }
   ],
   "source": [
    "myname.split()\n",
    "## this results in split a particular string function such that 2 different strings are created and they are stored in a list or an arraay"
   ]
  },
  {
   "cell_type": "code",
   "execution_count": 51,
   "id": "06228904",
   "metadata": {},
   "outputs": [],
   "source": [
    "mynamesplit = myname.split()\n",
    "## as you know that string is immutable in nature so the string variable cannot be change in the original variable as result of which a new variable is introduced in order to save the splu lists.\n"
   ]
  },
  {
   "cell_type": "code",
   "execution_count": 54,
   "id": "d7ea318d",
   "metadata": {},
   "outputs": [
    {
     "data": {
      "text/plain": [
       "'Sparsho'"
      ]
     },
     "execution_count": 54,
     "metadata": {},
     "output_type": "execute_result"
    }
   ],
   "source": [
    "## Now we use the same concept of index in the mynamesplit in odrr to use it.\n",
    "mynamesplit[0]"
   ]
  },
  {
   "cell_type": "code",
   "execution_count": 55,
   "id": "de2e0412",
   "metadata": {},
   "outputs": [],
   "source": [
    "myfirstname = mynamesplit[0]"
   ]
  },
  {
   "cell_type": "code",
   "execution_count": 56,
   "id": "142cfcb8",
   "metadata": {},
   "outputs": [
    {
     "data": {
      "text/plain": [
       "'arsho'"
      ]
     },
     "execution_count": 56,
     "metadata": {},
     "output_type": "execute_result"
    }
   ],
   "source": [
    "myfirstname[2:]"
   ]
  },
  {
   "cell_type": "markdown",
   "id": "693c0519",
   "metadata": {},
   "source": [
    "#####  Using the nltk library to generate random english words "
   ]
  },
  {
   "cell_type": "code",
   "execution_count": 1,
   "id": "32f3c723",
   "metadata": {},
   "outputs": [
    {
     "name": "stdout",
     "output_type": "stream",
     "text": [
      "Collecting nltk\n",
      "  Downloading nltk-3.9.1-py3-none-any.whl.metadata (2.9 kB)\n",
      "Collecting click (from nltk)\n",
      "  Downloading click-8.2.1-py3-none-any.whl.metadata (2.5 kB)\n",
      "Requirement already satisfied: joblib in e:\\quantumprojects\\qenv\\lib\\site-packages (from nltk) (1.5.1)\n",
      "Collecting regex>=2021.8.3 (from nltk)\n",
      "  Downloading regex-2024.11.6-cp313-cp313-win_amd64.whl.metadata (41 kB)\n",
      "Collecting tqdm (from nltk)\n",
      "  Downloading tqdm-4.67.1-py3-none-any.whl.metadata (57 kB)\n",
      "Requirement already satisfied: colorama in e:\\quantumprojects\\qenv\\lib\\site-packages (from click->nltk) (0.4.6)\n",
      "Downloading nltk-3.9.1-py3-none-any.whl (1.5 MB)\n",
      "   ---------------------------------------- 0.0/1.5 MB ? eta -:--:--\n",
      "   ------ --------------------------------- 0.3/1.5 MB ? eta -:--:--\n",
      "   ------ --------------------------------- 0.3/1.5 MB ? eta -:--:--\n",
      "   -------------------- ------------------- 0.8/1.5 MB 1.2 MB/s eta 0:00:01\n",
      "   --------------------------- ------------ 1.0/1.5 MB 1.1 MB/s eta 0:00:01\n",
      "   ---------------------------------- ----- 1.3/1.5 MB 1.3 MB/s eta 0:00:01\n",
      "   ---------------------------------------- 1.5/1.5 MB 1.2 MB/s eta 0:00:00\n",
      "Downloading regex-2024.11.6-cp313-cp313-win_amd64.whl (273 kB)\n",
      "Downloading click-8.2.1-py3-none-any.whl (102 kB)\n",
      "Downloading tqdm-4.67.1-py3-none-any.whl (78 kB)\n",
      "Installing collected packages: tqdm, regex, click, nltk\n",
      "\n",
      "   ---------------------------------------- 0/4 [tqdm]\n",
      "   ---------------------------------------- 0/4 [tqdm]\n",
      "   ---------------------------------------- 0/4 [tqdm]\n",
      "   ---------------------------------------- 0/4 [tqdm]\n",
      "   ---------------------------------------- 0/4 [tqdm]\n",
      "   ---------------------------------------- 0/4 [tqdm]\n",
      "   ---------------------------------------- 0/4 [tqdm]\n",
      "   ---------------------------------------- 0/4 [tqdm]\n",
      "   ---------------------------------------- 0/4 [tqdm]\n",
      "   ---------------------------------------- 0/4 [tqdm]\n",
      "   ---------------------------------------- 0/4 [tqdm]\n",
      "   ---------------------------------------- 0/4 [tqdm]\n",
      "   ---------------------------------------- 0/4 [tqdm]\n",
      "   ---------- ----------------------------- 1/4 [regex]\n",
      "   ---------- ----------------------------- 1/4 [regex]\n",
      "   ---------- ----------------------------- 1/4 [regex]\n",
      "   -------------------- ------------------- 2/4 [click]\n",
      "   -------------------- ------------------- 2/4 [click]\n",
      "   -------------------- ------------------- 2/4 [click]\n",
      "   -------------------- ------------------- 2/4 [click]\n",
      "   -------------------- ------------------- 2/4 [click]\n",
      "   -------------------- ------------------- 2/4 [click]\n",
      "   ------------------------------ --------- 3/4 [nltk]\n",
      "   ------------------------------ --------- 3/4 [nltk]\n",
      "   ------------------------------ --------- 3/4 [nltk]\n",
      "   ------------------------------ --------- 3/4 [nltk]\n",
      "   ------------------------------ --------- 3/4 [nltk]\n",
      "   ------------------------------ --------- 3/4 [nltk]\n",
      "   ------------------------------ --------- 3/4 [nltk]\n",
      "   ------------------------------ --------- 3/4 [nltk]\n",
      "   ------------------------------ --------- 3/4 [nltk]\n",
      "   ------------------------------ --------- 3/4 [nltk]\n",
      "   ------------------------------ --------- 3/4 [nltk]\n",
      "   ------------------------------ --------- 3/4 [nltk]\n",
      "   ------------------------------ --------- 3/4 [nltk]\n",
      "   ------------------------------ --------- 3/4 [nltk]\n",
      "   ------------------------------ --------- 3/4 [nltk]\n",
      "   ------------------------------ --------- 3/4 [nltk]\n",
      "   ------------------------------ --------- 3/4 [nltk]\n",
      "   ------------------------------ --------- 3/4 [nltk]\n",
      "   ------------------------------ --------- 3/4 [nltk]\n",
      "   ------------------------------ --------- 3/4 [nltk]\n",
      "   ------------------------------ --------- 3/4 [nltk]\n",
      "   ------------------------------ --------- 3/4 [nltk]\n",
      "   ------------------------------ --------- 3/4 [nltk]\n",
      "   ------------------------------ --------- 3/4 [nltk]\n",
      "   ------------------------------ --------- 3/4 [nltk]\n",
      "   ------------------------------ --------- 3/4 [nltk]\n",
      "   ------------------------------ --------- 3/4 [nltk]\n",
      "   ------------------------------ --------- 3/4 [nltk]\n",
      "   ------------------------------ --------- 3/4 [nltk]\n",
      "   ------------------------------ --------- 3/4 [nltk]\n",
      "   ------------------------------ --------- 3/4 [nltk]\n",
      "   ------------------------------ --------- 3/4 [nltk]\n",
      "   ------------------------------ --------- 3/4 [nltk]\n",
      "   ------------------------------ --------- 3/4 [nltk]\n",
      "   ------------------------------ --------- 3/4 [nltk]\n",
      "   ------------------------------ --------- 3/4 [nltk]\n",
      "   ------------------------------ --------- 3/4 [nltk]\n",
      "   ------------------------------ --------- 3/4 [nltk]\n",
      "   ------------------------------ --------- 3/4 [nltk]\n",
      "   ------------------------------ --------- 3/4 [nltk]\n",
      "   ------------------------------ --------- 3/4 [nltk]\n",
      "   ------------------------------ --------- 3/4 [nltk]\n",
      "   ------------------------------ --------- 3/4 [nltk]\n",
      "   ------------------------------ --------- 3/4 [nltk]\n",
      "   ------------------------------ --------- 3/4 [nltk]\n",
      "   ------------------------------ --------- 3/4 [nltk]\n",
      "   ------------------------------ --------- 3/4 [nltk]\n",
      "   ------------------------------ --------- 3/4 [nltk]\n",
      "   ------------------------------ --------- 3/4 [nltk]\n",
      "   ------------------------------ --------- 3/4 [nltk]\n",
      "   ------------------------------ --------- 3/4 [nltk]\n",
      "   ------------------------------ --------- 3/4 [nltk]\n",
      "   ------------------------------ --------- 3/4 [nltk]\n",
      "   ------------------------------ --------- 3/4 [nltk]\n",
      "   ------------------------------ --------- 3/4 [nltk]\n",
      "   ------------------------------ --------- 3/4 [nltk]\n",
      "   ------------------------------ --------- 3/4 [nltk]\n",
      "   ------------------------------ --------- 3/4 [nltk]\n",
      "   ------------------------------ --------- 3/4 [nltk]\n",
      "   ------------------------------ --------- 3/4 [nltk]\n",
      "   ------------------------------ --------- 3/4 [nltk]\n",
      "   ------------------------------ --------- 3/4 [nltk]\n",
      "   ------------------------------ --------- 3/4 [nltk]\n",
      "   ------------------------------ --------- 3/4 [nltk]\n",
      "   ------------------------------ --------- 3/4 [nltk]\n",
      "   ------------------------------ --------- 3/4 [nltk]\n",
      "   ------------------------------ --------- 3/4 [nltk]\n",
      "   ------------------------------ --------- 3/4 [nltk]\n",
      "   ------------------------------ --------- 3/4 [nltk]\n",
      "   ------------------------------ --------- 3/4 [nltk]\n",
      "   ------------------------------ --------- 3/4 [nltk]\n",
      "   ------------------------------ --------- 3/4 [nltk]\n",
      "   ------------------------------ --------- 3/4 [nltk]\n",
      "   ------------------------------ --------- 3/4 [nltk]\n",
      "   ------------------------------ --------- 3/4 [nltk]\n",
      "   ------------------------------ --------- 3/4 [nltk]\n",
      "   ------------------------------ --------- 3/4 [nltk]\n",
      "   ------------------------------ --------- 3/4 [nltk]\n",
      "   ------------------------------ --------- 3/4 [nltk]\n",
      "   ------------------------------ --------- 3/4 [nltk]\n",
      "   ------------------------------ --------- 3/4 [nltk]\n",
      "   ------------------------------ --------- 3/4 [nltk]\n",
      "   ------------------------------ --------- 3/4 [nltk]\n",
      "   ------------------------------ --------- 3/4 [nltk]\n",
      "   ------------------------------ --------- 3/4 [nltk]\n",
      "   ------------------------------ --------- 3/4 [nltk]\n",
      "   ------------------------------ --------- 3/4 [nltk]\n",
      "   ------------------------------ --------- 3/4 [nltk]\n",
      "   ------------------------------ --------- 3/4 [nltk]\n",
      "   ------------------------------ --------- 3/4 [nltk]\n",
      "   ------------------------------ --------- 3/4 [nltk]\n",
      "   ------------------------------ --------- 3/4 [nltk]\n",
      "   ------------------------------ --------- 3/4 [nltk]\n",
      "   ------------------------------ --------- 3/4 [nltk]\n",
      "   ------------------------------ --------- 3/4 [nltk]\n",
      "   ------------------------------ --------- 3/4 [nltk]\n",
      "   ---------------------------------------- 4/4 [nltk]\n",
      "\n",
      "Successfully installed click-8.2.1 nltk-3.9.1 regex-2024.11.6 tqdm-4.67.1\n",
      "Note: you may need to restart the kernel to use updated packages.\n"
     ]
    }
   ],
   "source": [
    "pip install nltk"
   ]
  },
  {
   "cell_type": "code",
   "execution_count": 6,
   "id": "4262cec4",
   "metadata": {},
   "outputs": [
    {
     "name": "stdout",
     "output_type": "stream",
     "text": [
      "Flagboat\n"
     ]
    }
   ],
   "source": [
    "import random\n",
    "import nltk\n",
    "from nltk.corpus import words\n",
    "\n",
    "english_words = words.words()\n",
    "\n",
    "# Get a random real word with length 5 to 8\n",
    "random_word = random.choice([x for x in english_words if 5 <= len(x) <= 8])\n",
    "print(random_word.capitalize())\n"
   ]
  },
  {
   "cell_type": "markdown",
   "id": "2b0b4b05",
   "metadata": {},
   "source": [
    "#### diferentiating characters into a list or tuple "
   ]
  },
  {
   "cell_type": "code",
   "execution_count": null,
   "id": "05551a51",
   "metadata": {},
   "outputs": [
    {
     "name": "stdout",
     "output_type": "stream",
     "text": [
      "preachily\n",
      "['p', 'r', 'e', 'a', 'c', 'h', 'i', 'l', 'y']\n",
      "('p', 'r', 'e', 'a', 'c', 'h', 'i', 'l', 'y')\n",
      "{'l', 'p', 'a', 'e', 'r', 'h', 'c', 'y', 'i'}\n",
      "{'h': 3, 'a': 7, 'z': 7, 'e': 1, 'l': 6, 'd': 9}\n",
      "{'otoconial': 8, 'suhuaro': 2, 'nineteenth': 9, 'panderage': 8, 'labiella': 1}\n"
     ]
    }
   ],
   "source": [
    "## unlike java and other languages we need to disect a string and break it into characters when entering them into an array but in python it is far more easier \n",
    "import random \n",
    "from nltk.corpus import words\n",
    "eng = words.words()\n",
    "r = random.choice([w for w in eng if  1<= len(w) <=9])\n",
    "print(r)\n",
    "## now we will transfer this word into a list\n",
    "print(list(r))\n",
    "#nwo we will tranfer this words in tuple \n",
    "print(tuple(r))\n",
    "## now we will tranfer this word into a set\n",
    "print(set(r))\n",
    "## now we can like join these 2 to create a dictionary\n",
    "dict1 = dict(zip(list(random.choice([w for w in eng if 1<= len(w) <=9])) , tuple(random.randint(1 , 10) for x in range(9))))\n",
    "print(dict1)\n",
    "dict2 = dict(zip(random.sample(eng , 5) , (random.randint(1 , 10) for x in range(10)))) ## this random sanple give 5 random  words when i call the eng class above\n",
    "print(dict2)\n"
   ]
  },
  {
   "cell_type": "markdown",
   "id": "47274cd4",
   "metadata": {},
   "source": [
    "#### Using faker to generate names of different types for email phone number for future fake csv datasheet"
   ]
  },
  {
   "cell_type": "code",
   "execution_count": 23,
   "id": "59b1a7ae",
   "metadata": {},
   "outputs": [
    {
     "name": "stdout",
     "output_type": "stream",
     "text": [
      "Collecting faker\n",
      "  Downloading faker-37.4.0-py3-none-any.whl.metadata (15 kB)\n",
      "Requirement already satisfied: tzdata in e:\\quantumprojects\\qenv\\lib\\site-packages (from faker) (2025.2)\n",
      "Downloading faker-37.4.0-py3-none-any.whl (1.9 MB)\n",
      "   ---------------------------------------- 0.0/1.9 MB ? eta -:--:--\n",
      "   ----- ---------------------------------- 0.3/1.9 MB ? eta -:--:--\n",
      "   ---------- ----------------------------- 0.5/1.9 MB 1.3 MB/s eta 0:00:02\n",
      "   --------------------- ------------------ 1.0/1.9 MB 1.8 MB/s eta 0:00:01\n",
      "   -------------------------------- ------- 1.6/1.9 MB 2.0 MB/s eta 0:00:01\n",
      "   ---------------------------------------- 1.9/1.9 MB 2.0 MB/s eta 0:00:00\n",
      "Installing collected packages: faker\n",
      "Successfully installed faker-37.4.0\n",
      "Note: you may need to restart the kernel to use updated packages.\n"
     ]
    }
   ],
   "source": [
    "\n",
    "pip install faker"
   ]
  },
  {
   "cell_type": "code",
   "execution_count": 16,
   "id": "c9bc490c",
   "metadata": {},
   "outputs": [
    {
     "name": "stdout",
     "output_type": "stream",
     "text": [
      "Frank\n",
      "['Sharon', 'Allison', 'Shirley', 'Bonnie', 'Jennifer', 'Eric', 'Zachary', 'Charles', 'Kelsey', 'James']\n",
      "{'Amy': 78, 'Samantha': 83, 'Johnathan': 72, 'Maria': 90, 'Melanie': 93, 'Jessica': 79, 'Bethany': 85, 'James': 96, 'Joseph': 74, 'Savannah': 72}\n"
     ]
    }
   ],
   "source": [
    "## using faker to initiliaze new names\n",
    "import random \n",
    "from faker import Faker \n",
    "l = Faker()\n",
    "print(l.first_name())\n",
    "list1 = [l.first_name() for x in range(10)]\n",
    "dict1 = dict(zip(list(l.first_name() for x in range(10)) , list(random.randint(70 , 100) for x in range(10))))\n",
    "print(list1)\n",
    "print(dict1)\n"
   ]
  }
 ],
 "metadata": {
  "kernelspec": {
   "display_name": "qenv",
   "language": "python",
   "name": "python3"
  },
  "language_info": {
   "codemirror_mode": {
    "name": "ipython",
    "version": 3
   },
   "file_extension": ".py",
   "mimetype": "text/x-python",
   "name": "python",
   "nbconvert_exporter": "python",
   "pygments_lexer": "ipython3",
   "version": "3.13.5"
  }
 },
 "nbformat": 4,
 "nbformat_minor": 5
}
