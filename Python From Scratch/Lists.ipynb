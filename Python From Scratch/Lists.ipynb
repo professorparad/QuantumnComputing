{
 "cells": [
  {
   "cell_type": "code",
   "execution_count": 9,
   "id": "b789b824",
   "metadata": {},
   "outputs": [],
   "source": [
    "mylist = [1,2,3]"
   ]
  },
  {
   "cell_type": "markdown",
   "id": "7470dba0",
   "metadata": {},
   "source": [
    "## Lists are nothing but an array "
   ]
  },
  {
   "cell_type": "code",
   "execution_count": 10,
   "id": "8322277c",
   "metadata": {},
   "outputs": [
    {
     "data": {
      "text/plain": [
       "1"
      ]
     },
     "execution_count": 10,
     "metadata": {},
     "output_type": "execute_result"
    }
   ],
   "source": [
    "mylist[0]\n",
    "## as you can see that the List works pretty much like a string  "
   ]
  },
  {
   "cell_type": "code",
   "execution_count": 11,
   "id": "998226df",
   "metadata": {},
   "outputs": [],
   "source": [
    "mylist[0]= 5\n",
    "mylist[2]= 7"
   ]
  },
  {
   "cell_type": "code",
   "execution_count": 12,
   "id": "aaeda1f3",
   "metadata": {},
   "outputs": [
    {
     "data": {
      "text/plain": [
       "[5, 2, 7]"
      ]
     },
     "execution_count": 12,
     "metadata": {},
     "output_type": "execute_result"
    }
   ],
   "source": [
    "mylist\n",
    "# so as w can see unlike strings lists are muutable in nature meaning they can change the original variable of the inital input\n"
   ]
  },
  {
   "cell_type": "markdown",
   "id": "cbec1bb9",
   "metadata": {},
   "source": [
    "## Lists Methods "
   ]
  },
  {
   "cell_type": "code",
   "execution_count": 15,
   "id": "61a6cdcc",
   "metadata": {},
   "outputs": [],
   "source": [
    "mylist.append(7)\n",
    "## as we can see that the append function adds a number or a letter or anything that we want to in a list \n",
    "mylist.append('Lol')"
   ]
  },
  {
   "cell_type": "code",
   "execution_count": 16,
   "id": "567b6e9a",
   "metadata": {},
   "outputs": [
    {
     "data": {
      "text/plain": [
       "[5, 2, 7, 7, 7, 'Lol']"
      ]
     },
     "execution_count": 16,
     "metadata": {},
     "output_type": "execute_result"
    }
   ],
   "source": [
    "mylist"
   ]
  },
  {
   "cell_type": "code",
   "execution_count": null,
   "id": "9249abe4",
   "metadata": {},
   "outputs": [
    {
     "data": {
      "text/plain": [
       "'Lol'"
      ]
     },
     "execution_count": 17,
     "metadata": {},
     "output_type": "execute_result"
    }
   ],
   "source": [
    "mylist.pop()\n",
    "## As we can see that in the pop function the last element gets popped out bu also the original list changes that is it does not have the last element in my case that os 'lol'"
   ]
  },
  {
   "cell_type": "code",
   "execution_count": 18,
   "id": "1a755cd8",
   "metadata": {},
   "outputs": [
    {
     "data": {
      "text/plain": [
       "[5, 2, 7, 7, 7]"
      ]
     },
     "execution_count": 18,
     "metadata": {},
     "output_type": "execute_result"
    }
   ],
   "source": [
    "mylist"
   ]
  },
  {
   "cell_type": "code",
   "execution_count": 19,
   "id": "c35f4939",
   "metadata": {},
   "outputs": [],
   "source": [
    "mylist1 = [1 , 3 , 4 ]\n",
    "mylist2 = mylist1 + mylist"
   ]
  },
  {
   "cell_type": "code",
   "execution_count": null,
   "id": "6948afc5",
   "metadata": {},
   "outputs": [
    {
     "data": {
      "text/plain": [
       "[1, 3, 4, 5, 2, 7, 7, 7]"
      ]
     },
     "execution_count": 21,
     "metadata": {},
     "output_type": "execute_result"
    }
   ],
   "source": [
    "mylist2\n",
    " ## So from here e can say that we can add 2 lists in order generate a combination of array or a long list "
   ]
  },
  {
   "cell_type": "code",
   "execution_count": 23,
   "id": "b2cfa490",
   "metadata": {},
   "outputs": [
    {
     "data": {
      "text/plain": [
       "[5, 2, 7, 7, 7, 5, 2, 7, 7, 7, 5, 2, 7, 7, 7]"
      ]
     },
     "execution_count": 23,
     "metadata": {},
     "output_type": "execute_result"
    }
   ],
   "source": [
    "mylist*3\n",
    "## So from here we can say that we can multiply the list which gives a recuring numbers of the same list dependikng upon the index multiplied "
   ]
  },
  {
   "cell_type": "code",
   "execution_count": null,
   "id": "7e6a06e7",
   "metadata": {},
   "outputs": [],
   "source": [
    "mylist.reverse()\n",
    "## The reverse function in lists is used reverse or rotate the entire list\n"
   ]
  },
  {
   "cell_type": "code",
   "execution_count": 25,
   "id": "feed5cd3",
   "metadata": {},
   "outputs": [
    {
     "data": {
      "text/plain": [
       "[7, 7, 7, 2, 5]"
      ]
     },
     "execution_count": 25,
     "metadata": {},
     "output_type": "execute_result"
    }
   ],
   "source": [
    "mylist"
   ]
  },
  {
   "cell_type": "markdown",
   "id": "c21283ec",
   "metadata": {},
   "source": [
    "## List Advanced "
   ]
  },
  {
   "cell_type": "markdown",
   "id": "b3337193",
   "metadata": {},
   "source": [
    "## Nested List"
   ]
  },
  {
   "cell_type": "code",
   "execution_count": 27,
   "id": "f9472723",
   "metadata": {},
   "outputs": [],
   "source": [
    "newlist = [1 , 4 , 'a' ]"
   ]
  },
  {
   "cell_type": "code",
   "execution_count": 28,
   "id": "eae8faf5",
   "metadata": {},
   "outputs": [],
   "source": [
    "newlist1 = [4, 5 , 'b', newlist]"
   ]
  },
  {
   "cell_type": "code",
   "execution_count": null,
   "id": "c2a02835",
   "metadata": {},
   "outputs": [
    {
     "data": {
      "text/plain": [
       "[4, 5, 'b', [1, 4, 'a']]"
      ]
     },
     "execution_count": 29,
     "metadata": {},
     "output_type": "execute_result"
    }
   ],
   "source": [
    "newlist1\n",
    "## This shit is known as a nested list"
   ]
  },
  {
   "cell_type": "code",
   "execution_count": 31,
   "id": "69a849da",
   "metadata": {},
   "outputs": [
    {
     "data": {
      "text/plain": [
       "[1, 4, 'a']"
      ]
     },
     "execution_count": 31,
     "metadata": {},
     "output_type": "execute_result"
    }
   ],
   "source": [
    "#so now \n",
    "newlist1[3]"
   ]
  },
  {
   "cell_type": "code",
   "execution_count": 32,
   "id": "baafa30f",
   "metadata": {},
   "outputs": [],
   "source": [
    "# SO now insted of taking out a particular number in a nested list we can do 1 thing we can pass 2 attributes into it original list inorder ot get the desired value . Lets take an example !!\n",
    "a = newlist1[3][2]"
   ]
  },
  {
   "cell_type": "code",
   "execution_count": 33,
   "id": "c9d84f16",
   "metadata": {},
   "outputs": [
    {
     "data": {
      "text/plain": [
       "'a'"
      ]
     },
     "execution_count": 33,
     "metadata": {},
     "output_type": "execute_result"
    }
   ],
   "source": [
    "a\n"
   ]
  },
  {
   "cell_type": "code",
   "execution_count": null,
   "id": "e262be3d",
   "metadata": {},
   "outputs": [],
   "source": [
    "# Thats gonna be of lists next we are gonna get in dictionary !!! Goodbye "
   ]
  }
 ],
 "metadata": {
  "kernelspec": {
   "display_name": "qenv",
   "language": "python",
   "name": "python3"
  },
  "language_info": {
   "codemirror_mode": {
    "name": "ipython",
    "version": 3
   },
   "file_extension": ".py",
   "mimetype": "text/x-python",
   "name": "python",
   "nbconvert_exporter": "python",
   "pygments_lexer": "ipython3",
   "version": "3.13.5"
  }
 },
 "nbformat": 4,
 "nbformat_minor": 5
}
