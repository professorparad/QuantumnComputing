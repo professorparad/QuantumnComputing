{
 "cells": [
  {
   "cell_type": "code",
   "execution_count": 2,
   "id": "b789b824",
   "metadata": {},
   "outputs": [],
   "source": [
    "mylist = [1,2,3]"
   ]
  },
  {
   "cell_type": "markdown",
   "id": "7470dba0",
   "metadata": {},
   "source": [
    "## Lists are nothing but an array "
   ]
  },
  {
   "cell_type": "code",
   "execution_count": 3,
   "id": "8322277c",
   "metadata": {},
   "outputs": [
    {
     "data": {
      "text/plain": [
       "1"
      ]
     },
     "execution_count": 3,
     "metadata": {},
     "output_type": "execute_result"
    }
   ],
   "source": [
    "mylist[0]\n",
    "## as you can see that the List works pretty much like a string  "
   ]
  },
  {
   "cell_type": "code",
   "execution_count": 4,
   "id": "998226df",
   "metadata": {},
   "outputs": [],
   "source": [
    "mylist[0]= 5\n",
    "mylist[2]= 7"
   ]
  },
  {
   "cell_type": "code",
   "execution_count": 5,
   "id": "aaeda1f3",
   "metadata": {},
   "outputs": [
    {
     "data": {
      "text/plain": [
       "[5, 2, 7]"
      ]
     },
     "execution_count": 5,
     "metadata": {},
     "output_type": "execute_result"
    }
   ],
   "source": [
    "mylist\n",
    "# so as w can see unlike strings lists are muutable in nature meaning they can change the original variable of the inital input\n"
   ]
  },
  {
   "cell_type": "markdown",
   "id": "cbec1bb9",
   "metadata": {},
   "source": [
    "## Lists Methods "
   ]
  },
  {
   "cell_type": "code",
   "execution_count": 6,
   "id": "61a6cdcc",
   "metadata": {},
   "outputs": [],
   "source": [
    "mylist.append(7)\n",
    "## as we can see that the append function adds a number or a letter or anything that we want to in a list \n",
    "mylist.append('Lol')"
   ]
  },
  {
   "cell_type": "code",
   "execution_count": 7,
   "id": "567b6e9a",
   "metadata": {},
   "outputs": [
    {
     "data": {
      "text/plain": [
       "[5, 2, 7, 7, 'Lol']"
      ]
     },
     "execution_count": 7,
     "metadata": {},
     "output_type": "execute_result"
    }
   ],
   "source": [
    "mylist"
   ]
  },
  {
   "cell_type": "code",
   "execution_count": 8,
   "id": "9249abe4",
   "metadata": {},
   "outputs": [
    {
     "data": {
      "text/plain": [
       "'Lol'"
      ]
     },
     "execution_count": 8,
     "metadata": {},
     "output_type": "execute_result"
    }
   ],
   "source": [
    "mylist.pop()\n",
    "## As we can see that in the pop function the last element gets popped out bu also the original list changes that is it does not have the last element in my case that os 'lol'"
   ]
  },
  {
   "cell_type": "code",
   "execution_count": 9,
   "id": "1a755cd8",
   "metadata": {},
   "outputs": [
    {
     "data": {
      "text/plain": [
       "[5, 2, 7, 7]"
      ]
     },
     "execution_count": 9,
     "metadata": {},
     "output_type": "execute_result"
    }
   ],
   "source": [
    "mylist"
   ]
  },
  {
   "cell_type": "code",
   "execution_count": 10,
   "id": "c35f4939",
   "metadata": {},
   "outputs": [],
   "source": [
    "mylist1 = [1 , 3 , 4 ]\n",
    "mylist2 = mylist1 + mylist"
   ]
  },
  {
   "cell_type": "code",
   "execution_count": 11,
   "id": "6948afc5",
   "metadata": {},
   "outputs": [
    {
     "data": {
      "text/plain": [
       "[1, 3, 4, 5, 2, 7, 7]"
      ]
     },
     "execution_count": 11,
     "metadata": {},
     "output_type": "execute_result"
    }
   ],
   "source": [
    "mylist2\n",
    " ## So from here e can say that we can add 2 lists in order generate a combination of array or a long list "
   ]
  },
  {
   "cell_type": "code",
   "execution_count": 12,
   "id": "b2cfa490",
   "metadata": {},
   "outputs": [
    {
     "data": {
      "text/plain": [
       "[5, 2, 7, 7, 5, 2, 7, 7, 5, 2, 7, 7]"
      ]
     },
     "execution_count": 12,
     "metadata": {},
     "output_type": "execute_result"
    }
   ],
   "source": [
    "mylist*3\n",
    "## So from here we can say that we can multiply the list which gives a recuring numbers of the same list dependikng upon the index multiplied "
   ]
  },
  {
   "cell_type": "code",
   "execution_count": 13,
   "id": "7e6a06e7",
   "metadata": {},
   "outputs": [],
   "source": [
    "mylist.reverse()\n",
    "## The reverse function in lists is used reverse or rotate the entire list\n"
   ]
  },
  {
   "cell_type": "code",
   "execution_count": 14,
   "id": "feed5cd3",
   "metadata": {},
   "outputs": [
    {
     "data": {
      "text/plain": [
       "[7, 7, 2, 5]"
      ]
     },
     "execution_count": 14,
     "metadata": {},
     "output_type": "execute_result"
    }
   ],
   "source": [
    "mylist"
   ]
  },
  {
   "cell_type": "markdown",
   "id": "c21283ec",
   "metadata": {},
   "source": [
    "## List Advanced "
   ]
  },
  {
   "cell_type": "markdown",
   "id": "b3337193",
   "metadata": {},
   "source": [
    "## Nested List"
   ]
  },
  {
   "cell_type": "code",
   "execution_count": 15,
   "id": "f9472723",
   "metadata": {},
   "outputs": [],
   "source": [
    "newlist = [1 , 4 , 'a' ]"
   ]
  },
  {
   "cell_type": "code",
   "execution_count": 16,
   "id": "eae8faf5",
   "metadata": {},
   "outputs": [],
   "source": [
    "newlist1 = [4, 5 , 'b', newlist]"
   ]
  },
  {
   "cell_type": "code",
   "execution_count": 17,
   "id": "c2a02835",
   "metadata": {},
   "outputs": [
    {
     "data": {
      "text/plain": [
       "[4, 5, 'b', [1, 4, 'a']]"
      ]
     },
     "execution_count": 17,
     "metadata": {},
     "output_type": "execute_result"
    }
   ],
   "source": [
    "newlist1\n",
    "## This shit is known as a nested list"
   ]
  },
  {
   "cell_type": "code",
   "execution_count": 18,
   "id": "69a849da",
   "metadata": {},
   "outputs": [
    {
     "data": {
      "text/plain": [
       "[1, 4, 'a']"
      ]
     },
     "execution_count": 18,
     "metadata": {},
     "output_type": "execute_result"
    }
   ],
   "source": [
    "#so now \n",
    "newlist1[3]"
   ]
  },
  {
   "cell_type": "code",
   "execution_count": 19,
   "id": "baafa30f",
   "metadata": {},
   "outputs": [],
   "source": [
    "# SO now insted of taking out a particular number in a nested list we can do 1 thing we can pass 2 attributes into it original list inorder ot get the desired value . Lets take an example !!\n",
    "a = newlist1[3][2]"
   ]
  },
  {
   "cell_type": "code",
   "execution_count": 20,
   "id": "c9d84f16",
   "metadata": {},
   "outputs": [
    {
     "name": "stdout",
     "output_type": "stream",
     "text": [
      "0 1\n",
      "1 3\n",
      "2 4\n"
     ]
    }
   ],
   "source": [
    "# let us use now now another sexy method called ennumerate \n",
    "for index , numbers in enumerate(mylist1):\n",
    "    print(index , numbers)"
   ]
  },
  {
   "cell_type": "code",
   "execution_count": null,
   "id": "b440455a",
   "metadata": {},
   "outputs": [
    {
     "name": "stdout",
     "output_type": "stream",
     "text": [
      "[('allice', 99), ('onker', 100), ('suzan ', 45), ('Trudo', 60)]\n",
      "{'allice': 99, 'onker': 100, 'suzan ': 45, 'Trudo': 60}\n",
      "{'onker': 99, 'suzan ': 100, 'Trudo': 45}\n",
      "('allice', 'onker', 'suzan ', 'Trudo') , (99, 100, 45, 60)\n"
     ]
    }
   ],
   "source": [
    "# zipping of lists \n",
    "# zipping of lists is by using the keyword zips which essentially creates a tuple or combines 2 or more lists together\n",
    "list1 = ['allice' , 'onker' , 'suzan ', 'Trudo']\n",
    "list2 = [99 , 100 , 45 , 60 ]\n",
    "list3 = list(zip(list1 , list2))\n",
    "print(list3)\n",
    "# as you can it has created a  list of tuples we can use it for dictionary management \n",
    "dict1 = dict(zip(list1 , list2))\n",
    "print(dict1)\n",
    "\n",
    "## so the question comes what will happen if the indexes of tht e2 list are not same lie one is larger and the other is smaller so in the that case on;y the list happen loswest indexes will be zipped till that lets use take an example\n",
    "listsmall = [ 'onker' , 'suzan ', 'Trudo']\n",
    "list2large= [99 , 100 , 45 , 60 ]\n",
    "zipped = dict(zip(listsmall , list2large))\n",
    "print(zipped)\n",
    "\n",
    "## unzipping of a zipped list \n",
    "\n",
    "names, score = zip(*list3)\n",
    "print(f\"{names} , {score}\")\n",
    "# but this shit only works with lists not for dictionarry "
   ]
  },
  {
   "cell_type": "markdown",
   "id": "996fa23b",
   "metadata": {},
   "source": [
    "# List Comprehension "
   ]
  },
  {
   "cell_type": "code",
   "execution_count": null,
   "id": "f784e229",
   "metadata": {},
   "outputs": [],
   "source": [
    "## its a way of writing the functionalties or valeu intputs in a list ina single line to reduce programing size\n",
    "## syntax:\n",
    "## list_comprehesnion = [variable  loop   nested loop/ conditional statment ]\n",
    "try:\n",
    "    y = [ x*x  for x in range(1 , 11)]\n",
    "    print (y) # gives the sqaure of every value from 1 - 10 in a list format \n",
    "   \n",
    "except Exception as e :\n",
    "    print(e)"
   ]
  },
  {
   "cell_type": "code",
   "execution_count": 21,
   "id": "e262be3d",
   "metadata": {},
   "outputs": [],
   "source": [
    "# Thats gonna be of lists next we are gonna get in dictionary !!! Goodbye "
   ]
  }
 ],
 "metadata": {
  "kernelspec": {
   "display_name": "qenv",
   "language": "python",
   "name": "python3"
  },
  "language_info": {
   "codemirror_mode": {
    "name": "ipython",
    "version": 3
   },
   "file_extension": ".py",
   "mimetype": "text/x-python",
   "name": "python",
   "nbconvert_exporter": "python",
   "pygments_lexer": "ipython3",
   "version": "3.13.5"
  }
 },
 "nbformat": 4,
 "nbformat_minor": 5
}
