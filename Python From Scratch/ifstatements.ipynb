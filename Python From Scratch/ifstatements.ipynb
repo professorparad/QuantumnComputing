{
 "cells": [
  {
   "cell_type": "code",
   "execution_count": 8,
   "id": "22135307",
   "metadata": {},
   "outputs": [],
   "source": [
    "#lets run a simple program where we find a prime number or not "
   ]
  },
  {
   "cell_type": "code",
   "execution_count": 19,
   "id": "037ba3f6",
   "metadata": {},
   "outputs": [],
   "source": [
    "mynumber = 13"
   ]
  },
  {
   "cell_type": "code",
   "execution_count": 20,
   "id": "db674439",
   "metadata": {},
   "outputs": [
    {
     "name": "stdout",
     "output_type": "stream",
     "text": [
      "The number is prime\n"
     ]
    }
   ],
   "source": [
    "# Check if mynumber is a prime number\n",
    "is_prime = True\n",
    "for i in range(2, mynumber):\n",
    "    if mynumber % i == 0:\n",
    "        print('The number is not prime')\n",
    "        is_prime = False\n",
    "        break\n",
    "\n",
    "if is_prime and mynumber > 1:\n",
    "    print('The number is prime')\n"
   ]
  },
  {
   "cell_type": "code",
   "execution_count": null,
   "id": "171e9fca",
   "metadata": {},
   "outputs": [],
   "source": []
  }
 ],
 "metadata": {
  "kernelspec": {
   "display_name": "Python (qenv)",
   "language": "python",
   "name": "qenv"
  },
  "language_info": {
   "codemirror_mode": {
    "name": "ipython",
    "version": 3
   },
   "file_extension": ".py",
   "mimetype": "text/x-python",
   "name": "python",
   "nbconvert_exporter": "python",
   "pygments_lexer": "ipython3",
   "version": "3.13.5"
  }
 },
 "nbformat": 4,
 "nbformat_minor": 5
}
