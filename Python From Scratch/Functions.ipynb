{
 "cells": [
  {
   "cell_type": "markdown",
   "id": "56afb65c",
   "metadata": {},
   "source": [
    "# Functions \n",
    "#### it is one of the most important parts of used in python "
   ]
  },
  {
   "cell_type": "code",
   "execution_count": 1,
   "id": "54e6c559",
   "metadata": {},
   "outputs": [],
   "source": [
    "## A function can be defined as a block of code which is used to perform a specific part or a specific operation \n",
    "## Syntax \n",
    "def function_name(parametres):\n",
    "    '''Doc String'''\n",
    "    # Function Body \n",
    "    return expression "
   ]
  },
  {
   "cell_type": "markdown",
   "id": "38273eb1",
   "metadata": {},
   "source": [
    "#### Function is used to reuse of the same code at places and multiple times in a program"
   ]
  },
  {
   "cell_type": "markdown",
   "id": "1fa7481f",
   "metadata": {},
   "source": [
    "#### 1. Function with a single parametre "
   ]
  },
  {
   "cell_type": "code",
   "execution_count": 4,
   "id": "913484d8",
   "metadata": {},
   "outputs": [
    {
     "data": {
      "text/plain": [
       "'13 is odd'"
      ]
     },
     "execution_count": 4,
     "metadata": {},
     "output_type": "execute_result"
    }
   ],
   "source": [
    "## for example we want towrite a code for even number and use it anywhere in the program to do that we will define a particular function for that code\n",
    "\n",
    "def even_number(number):\n",
    "    if number%2== 0:\n",
    "        return (f\"{number} is even\")\n",
    "    else:\n",
    "        return (f\"{number} is odd\")\n",
    "number = int(input(\"Enter s umber you want\"))\n",
    "even_number(number)\n"
   ]
  },
  {
   "cell_type": "markdown",
   "id": "d9436d5f",
   "metadata": {},
   "source": [
    "#### 2. Function with multiple parametres "
   ]
  },
  {
   "cell_type": "code",
   "execution_count": 73,
   "id": "39795943",
   "metadata": {},
   "outputs": [
    {
     "name": "stdout",
     "output_type": "stream",
     "text": [
      "The student Robert is born on 2024-10-06 and has a email of bill31@example.net \n"
     ]
    }
   ],
   "source": [
    "try:\n",
    "    import random \n",
    "    import faker\n",
    "    from faker import Faker \n",
    "    \n",
    "    def college_id(name , dob , email ):\n",
    "        return (f\"The student {name} is born on {dob} and has a email of {email} \")\n",
    "    \n",
    "    f = faker.Faker()\n",
    "    name = f.first_name() \n",
    "    dob = f.date_of_birth() \n",
    "    email = f.email()\n",
    "    college_id(name , dob , email )\n",
    "    print(college_id(name , dob , email))\n",
    "\n",
    "except Exception as e:\n",
    "    print(e)"
   ]
  },
  {
   "cell_type": "markdown",
   "id": "8ea75369",
   "metadata": {},
   "source": [
    "#### 3. Default parametres "
   ]
  },
  {
   "cell_type": "code",
   "execution_count": 88,
   "id": "030223e1",
   "metadata": {},
   "outputs": [
    {
     "name": "stdout",
     "output_type": "stream",
     "text": [
      "The student Student is born on yyyy-mm-dd and has a email of abcd@ \n"
     ]
    }
   ],
   "source": [
    "## if for exmaple the name or dob is not given when  the fucngtion is called the function instrad of returning an error will print the output with the default parametres given tot the def let us unstand the thing using the same example as above\n",
    "\n",
    "try:\n",
    "\n",
    "    \n",
    "    def college_id2(name1 = 'Student' , dob1 = 'yyyy-mm-dd', email1 = 'abcd@'):\n",
    "        return (f\"The student {name1} is born on {dob1} and has a email of {email1} \")\n",
    "    \n",
    "    college_id2()\n",
    "    print(college_id2())\n",
    "\n",
    "except Exception as e:\n",
    "    print(e)"
   ]
  },
  {
   "cell_type": "markdown",
   "id": "39c9e8ea",
   "metadata": {},
   "source": [
    "#### Variable length arguments\n",
    "#### 1. Positional Arguments : a postional argument is denoted by *args which is used for inputing or iterating over variablea data , meaning adata that is changing constantly as result of which the it will to iteate over a constantly changing variable input fubction specifically used in nwarapper classes \n"
   ]
  },
  {
   "cell_type": "code",
   "execution_count": 89,
   "id": "53eafea0",
   "metadata": {},
   "outputs": [
    {
     "name": "stdout",
     "output_type": "stream",
     "text": [
      "1\n",
      "2\n",
      "3\n",
      "4\n",
      "5\n",
      "6\n",
      "7\n",
      "8\n",
      "LOL\n"
     ]
    }
   ],
   "source": [
    "### ok for example it used to iterate over multiple numbers of variable input :\n",
    "def print_numbers(*args):\n",
    "    for numbers in args :\n",
    "        print(numbers)\n",
    "\n",
    "print_numbers(1 , 2 , 3 , 4 , 5,  6 ,7  ,8 , \"LOL\")"
   ]
  },
  {
   "cell_type": "markdown",
   "id": "a3554c71",
   "metadata": {},
   "source": [
    "#### Keywords Arguments it is used for iterating over keys ans values and is denoted by the **kwargs \n",
    "\n"
   ]
  },
  {
   "cell_type": "code",
   "execution_count": 97,
   "id": "418fe2c6",
   "metadata": {},
   "outputs": [
    {
     "name": "stdout",
     "output_type": "stream",
     "text": [
      "Name:Sparsho\n",
      "Age:25\n",
      "DOB:05-03=1999\n"
     ]
    }
   ],
   "source": [
    "def print_numbers1(**kwargs):\n",
    "    for keys , value   in kwargs.items() :\n",
    "         print(f\"{keys}:{value}\" )\n",
    "\n",
    "print_numbers1(Name = \"Sparsho\" , Age = \"25\" , DOB = \"05-03=1999\" )"
   ]
  },
  {
   "cell_type": "markdown",
   "id": "9d18308e",
   "metadata": {},
   "source": [
    "#### Functions Examples and problems\n",
    "#### Problem No 1. Pasword Strength checker using function "
   ]
  },
  {
   "cell_type": "code",
   "execution_count": 101,
   "id": "4977fe32",
   "metadata": {},
   "outputs": [
    {
     "name": "stdout",
     "output_type": "stream",
     "text": [
      "Password should be greater than 8 characters long\n"
     ]
    }
   ],
   "source": [
    "try:\n",
    "    def password_checker(password):\n",
    "        if len(password)<8:\n",
    "            return(\"Password should be greater than 8 characters long\")\n",
    "        elif not any(char.isdigit() for char in password):\n",
    "            return (\"There should be atleast 1 number in the password\")\n",
    "        elif not any(char.islower() for char in password):\n",
    "            return (\"password should contain atleast 1 or more lower casse letter\")\n",
    "        elif not any(char.isupper() for char in password):\n",
    "            return(\"password should contain atleast 1 upper letter\")\n",
    "        elif not any(char in '!@#$%^&*()_+' for char in password):\n",
    "            return(\"password should contain atleast 1 special character\")\n",
    "        return (\"Strong Password\")\n",
    "    \n",
    "    password = input(\"Enter the password\")\n",
    "    print(password_checker(password) )   \n",
    "except Exception as e:\n",
    "    print(e)"
   ]
  },
  {
   "cell_type": "markdown",
   "id": "eae0e577",
   "metadata": {},
   "source": [
    "#### Problem 2 :Calculate the total cost of item in a shopping cart "
   ]
  },
  {
   "cell_type": "code",
   "execution_count": 111,
   "id": "27119f59",
   "metadata": {},
   "outputs": [
    {
     "name": "stdout",
     "output_type": "stream",
     "text": [
      "Items in your cart with prices:\n",
      "aloo: ₹100\n",
      "piyak: ₹20\n",
      "gobi: ₹300\n",
      "Total cost: ₹420\n"
     ]
    }
   ],
   "source": [
    "def cost_calc(shoppingcart, price, dict1):\n",
    "    if len(shoppingcart) != len(price):\n",
    "        return \"Error: Your shopping cart and price list don't match\"\n",
    "\n",
    "    total = sum(price)\n",
    "    \n",
    "    print(\"Items in your cart with prices:\")\n",
    "    for key, value in dict1.items():\n",
    "        print(f\"{key}: ₹{value}\")\n",
    "    \n",
    "    return f\"Total cost: ₹{total}\"\n",
    "\n",
    "# Input from user\n",
    "shoppingcart = input(\"Enter the items (space-separated): \").split()\n",
    "price = [int(x) for x in input(\"Enter the prices (space-separated): \").split()]\n",
    "\n",
    "# Zipping into a dictionary\n",
    "dict1 = dict(zip(shoppingcart, price))\n",
    "\n",
    "# Calling the function\n",
    "print(cost_calc(shoppingcart, price, dict1))\n"
   ]
  },
  {
   "cell_type": "markdown",
   "id": "ca282846",
   "metadata": {},
   "source": [
    "#### Problem 3 : Check whether a string is palidrome or not "
   ]
  },
  {
   "cell_type": "code",
   "execution_count": 115,
   "id": "c14fb6f2",
   "metadata": {},
   "outputs": [
    {
     "name": "stdout",
     "output_type": "stream",
     "text": [
      "podu is not a palindrome \n"
     ]
    }
   ],
   "source": [
    "try:\n",
    "    def palindrome_checker(str1):\n",
    "        if str1 == str1[::-1]:\n",
    "            return(f\"{str1} is a palindrome\")\n",
    "        else:\n",
    "            return (f\"{str1} is not a palindrome \")\n",
    "    str1 = str(input(\"Enter s specific string or word to check if it is palindrome or not\"))\n",
    "    print(palindrome_checker(str1))\n",
    "except Exception as e:\n",
    "    print(e)"
   ]
  },
  {
   "cell_type": "markdown",
   "id": "8b6a18b3",
   "metadata": {},
   "source": []
  },
  {
   "cell_type": "markdown",
   "id": "032c735f",
   "metadata": {},
   "source": [
    "#### Problem 4 : Calculate the factorial of a number using recursion \n",
    "#### Recursion : it is a way of looping of a fucntion instead of using for anf while loops a fucntion which calls itself at a continuously is called a recursive function "
   ]
  },
  {
   "cell_type": "code",
   "execution_count": 117,
   "id": "74414d1c",
   "metadata": {},
   "outputs": [
    {
     "name": "stdout",
     "output_type": "stream",
     "text": [
      "120\n"
     ]
    }
   ],
   "source": [
    "try : \n",
    "    def fact(n):\n",
    "        if n==0 or n == 1:\n",
    "            return 1\n",
    "        else :\n",
    "            return n*fact(n-1)\n",
    "    n = int(input(\"Enter a number \"))\n",
    "    print(fact(n))\n",
    "except Exception as e:\n",
    "    print(e)"
   ]
  },
  {
   "cell_type": "markdown",
   "id": "9b32b8d3",
   "metadata": {},
   "source": [
    "#### LAMBDA FUNCTION : These are anonymous functions which can contain multiple number of arguments but ony 1 expression and is defined by the keyword lambda \n",
    "#### Syntax for lambda function is :\n",
    "#### lambda arguments : expression "
   ]
  },
  {
   "cell_type": "code",
   "execution_count": 119,
   "id": "568b54c6",
   "metadata": {},
   "outputs": [
    {
     "name": "stdout",
     "output_type": "stream",
     "text": [
      "11\n",
      "<class 'function'>\n"
     ]
    }
   ],
   "source": [
    "## example of lambda function \n",
    "addition = lambda a,b : a+b\n",
    "print(addition(5 , 6))\n",
    "print(type(addition))"
   ]
  },
  {
   "cell_type": "code",
   "execution_count": 121,
   "id": "c984f7b7",
   "metadata": {},
   "outputs": [
    {
     "name": "stdout",
     "output_type": "stream",
     "text": [
      "False\n"
     ]
    }
   ],
   "source": [
    "## Even number programming using Lambda Function \n",
    "even = lambda num : num%2 == 0 \n",
    "print(even(13))"
   ]
  },
  {
   "cell_type": "markdown",
   "id": "287a8dab",
   "metadata": {},
   "source": [
    "#### MAP FUNCTION : A map() function is a special type of function which applies a function to all items in a input list or any other iterables and is usefull for transforming data in a list comprehensivley \n",
    "#### Syntax of map function :map(function , iterables)\n",
    "#### "
   ]
  },
  {
   "cell_type": "markdown",
   "id": "122248cb",
   "metadata": {},
   "source": [
    "#### MAP Using single parametres"
   ]
  },
  {
   "cell_type": "code",
   "execution_count": 125,
   "id": "ab991a67",
   "metadata": {},
   "outputs": [
    {
     "data": {
      "text/plain": [
       "[1, 4, 9, 16, 25, 36, 49]"
      ]
     },
     "execution_count": 125,
     "metadata": {},
     "output_type": "execute_result"
    }
   ],
   "source": [
    "##### om if we want to find the square of all the numbers in a given list we just need to to first to do define a  fucntion after that we need to iterate over it and then again do the same shit over to get the value sof the list \n",
    "## So the easiest way and shortest way to do it is using the may fucntion which nothe but the a function which applies a prticular function to all thbe items in a particular data structure\n",
    "\n",
    "list1 = [int (x) for x in input(\"Enter the numbers in the list \").split()]\n",
    "list(map(lambda x:x**2 , list1))"
   ]
  },
  {
   "cell_type": "markdown",
   "id": "2b2e1585",
   "metadata": {},
   "source": [
    "#### Map using multiple parametres "
   ]
  },
  {
   "cell_type": "code",
   "execution_count": 127,
   "id": "2de49691",
   "metadata": {},
   "outputs": [
    {
     "name": "stdout",
     "output_type": "stream",
     "text": [
      "[5, 7, 9]\n"
     ]
    }
   ],
   "source": [
    "### let us input multiple parametres in the map function  \n",
    "list1 = [1 , 2, 3,]\n",
    "list2 = [4 , 5, 6]\n",
    "print(list(map(lambda a , b: a+b , list1 , list2)))"
   ]
  },
  {
   "cell_type": "markdown",
   "id": "e02294c2",
   "metadata": {},
   "source": [
    "#### using map funcion for changing variable types "
   ]
  },
  {
   "cell_type": "code",
   "execution_count": 128,
   "id": "048dec41",
   "metadata": {},
   "outputs": [
    {
     "name": "stdout",
     "output_type": "stream",
     "text": [
      "[1, 2, 3, 4, 5]\n"
     ]
    }
   ],
   "source": [
    "try:\n",
    "    list3 = ['1' , '2 ' , '3' , '4' , '5']\n",
    "    print(list(map(int , list3)))\n",
    "except Exception as e:\n",
    "    print(e)"
   ]
  },
  {
   "cell_type": "markdown",
   "id": "ffacb230",
   "metadata": {},
   "source": [
    "#### using string default functions with map function "
   ]
  },
  {
   "cell_type": "code",
   "execution_count": 130,
   "id": "7d31a116",
   "metadata": {},
   "outputs": [
    {
     "name": "stdout",
     "output_type": "stream",
     "text": [
      "['APPLE', 'BANANA', 'GUAVA']\n"
     ]
    }
   ],
   "source": [
    "try:\n",
    "    list4 = ['apple' , 'banana' , 'guava']\n",
    "    print(list(map(str.upper , list4)))\n",
    "except Exception as e:\n",
    "    print(e)"
   ]
  },
  {
   "cell_type": "markdown",
   "id": "15832626",
   "metadata": {},
   "source": [
    "#### using dictionaries with the map function "
   ]
  },
  {
   "cell_type": "code",
   "execution_count": 138,
   "id": "ee28b7dd",
   "metadata": {},
   "outputs": [
    {
     "name": "stdout",
     "output_type": "stream",
     "text": [
      "['Erica', 'Karen', 'Thomas']\n"
     ]
    }
   ],
   "source": [
    "try:\n",
    "    import faker\n",
    "    from faker import Faker\n",
    "    def work(people):\n",
    "        return people['name']\n",
    "    f = faker.Faker()\n",
    "    people = [{'name':f.first_name() , 'Age' : str(f.date_of_birth())} for x in range(3)]\n",
    "    print(list(map(work , people)))\n",
    "except Exception as e:\n",
    "    print(e)"
   ]
  },
  {
   "cell_type": "markdown",
   "id": "09468380",
   "metadata": {},
   "source": [
    "#### FILTER FUNCTION : it is a function that is used tpo create an iterator from elements of an iterable for which the function returns true . Or in simple words we can say that it is used tpo filter out elemets from a list or any other iterable depending upon the condition is met\n"
   ]
  },
  {
   "cell_type": "code",
   "execution_count": 139,
   "id": "dd7f0eff",
   "metadata": {},
   "outputs": [
    {
     "name": "stdout",
     "output_type": "stream",
     "text": [
      "[2, 4, 6, 8]\n"
     ]
    }
   ],
   "source": [
    "## ok let us use the filter the function for filtering out of even numbers from the list\n",
    "list5 = [1 ,2 ,3 ,4 ,5 , 6, 7 ,8 ,9 ]\n",
    "print(list(filter(lambda x : x%2==0 , list5)))"
   ]
  },
  {
   "cell_type": "code",
   "execution_count": 146,
   "id": "71d1f6e7",
   "metadata": {},
   "outputs": [
    {
     "name": "stdout",
     "output_type": "stream",
     "text": [
      "[6, 7, 8, 9]\n"
     ]
    }
   ],
   "source": [
    "### same concept finding the greatest value\n",
    "print(list(filter(lambda x : x>5 , list5)) )"
   ]
  },
  {
   "cell_type": "markdown",
   "id": "93b24911",
   "metadata": {},
   "source": [
    "#### filter and lambda function joint venture with multiple parametres "
   ]
  },
  {
   "cell_type": "code",
   "execution_count": 147,
   "id": "e4cda9db",
   "metadata": {},
   "outputs": [
    {
     "name": "stdout",
     "output_type": "stream",
     "text": [
      "[6, 8]\n"
     ]
    }
   ],
   "source": [
    "##ok lets start \n",
    "print(list(filter(lambda x : x>5 and x%2 == 0 , list5)))"
   ]
  },
  {
   "cell_type": "markdown",
   "id": "66881806",
   "metadata": {},
   "source": [
    "#### Filter function is a powerfull tool usually used for like data cleaning and stuffs in data sheet s"
   ]
  },
  {
   "cell_type": "code",
   "execution_count": null,
   "id": "339f8840",
   "metadata": {},
   "outputs": [],
   "source": []
  }
 ],
 "metadata": {
  "kernelspec": {
   "display_name": "qenv",
   "language": "python",
   "name": "python3"
  },
  "language_info": {
   "codemirror_mode": {
    "name": "ipython",
    "version": 3
   },
   "file_extension": ".py",
   "mimetype": "text/x-python",
   "name": "python",
   "nbconvert_exporter": "python",
   "pygments_lexer": "ipython3",
   "version": "3.13.5"
  }
 },
 "nbformat": 4,
 "nbformat_minor": 5
}
