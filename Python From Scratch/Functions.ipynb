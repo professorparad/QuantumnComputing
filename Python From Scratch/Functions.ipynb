{
 "cells": [
  {
   "cell_type": "markdown",
   "id": "56afb65c",
   "metadata": {},
   "source": [
    "# Functions \n",
    "#### it is one of the most important parts of used in python "
   ]
  },
  {
   "cell_type": "code",
   "execution_count": 1,
   "id": "54e6c559",
   "metadata": {},
   "outputs": [],
   "source": [
    "## A function can be defined as a block of code which is used to perform a specific part or a specific operation \n",
    "## Syntax \n",
    "def function_name(parametres):\n",
    "    '''Doc String'''\n",
    "    # Function Body \n",
    "    return expression "
   ]
  },
  {
   "cell_type": "markdown",
   "id": "38273eb1",
   "metadata": {},
   "source": [
    "#### Function is used to reuse of the same code at places and multiple times in a program"
   ]
  },
  {
   "cell_type": "markdown",
   "id": "1fa7481f",
   "metadata": {},
   "source": [
    "#### 1. Function with a single parametre "
   ]
  },
  {
   "cell_type": "code",
   "execution_count": 4,
   "id": "913484d8",
   "metadata": {},
   "outputs": [
    {
     "data": {
      "text/plain": [
       "'13 is odd'"
      ]
     },
     "execution_count": 4,
     "metadata": {},
     "output_type": "execute_result"
    }
   ],
   "source": [
    "## for example we want towrite a code for even number and use it anywhere in the program to do that we will define a particular function for that code\n",
    "\n",
    "def even_number(number):\n",
    "    if number%2== 0:\n",
    "        return (f\"{number} is even\")\n",
    "    else:\n",
    "        return (f\"{number} is odd\")\n",
    "number = int(input(\"Enter s umber you want\"))\n",
    "even_number(number)\n"
   ]
  },
  {
   "cell_type": "markdown",
   "id": "d9436d5f",
   "metadata": {},
   "source": [
    "#### 2. Function with multiple parametres "
   ]
  },
  {
   "cell_type": "code",
   "execution_count": 73,
   "id": "39795943",
   "metadata": {},
   "outputs": [
    {
     "name": "stdout",
     "output_type": "stream",
     "text": [
      "The student Robert is born on 2024-10-06 and has a email of bill31@example.net \n"
     ]
    }
   ],
   "source": [
    "try:\n",
    "    import random \n",
    "    import faker\n",
    "    from faker import Faker \n",
    "    \n",
    "    def college_id(name , dob , email ):\n",
    "        return (f\"The student {name} is born on {dob} and has a email of {email} \")\n",
    "    \n",
    "    f = faker.Faker()\n",
    "    name = f.first_name() \n",
    "    dob = f.date_of_birth() \n",
    "    email = f.email()\n",
    "    college_id(name , dob , email )\n",
    "    print(college_id(name , dob , email))\n",
    "\n",
    "except Exception as e:\n",
    "    print(e)"
   ]
  },
  {
   "cell_type": "markdown",
   "id": "8ea75369",
   "metadata": {},
   "source": [
    "#### 3. Default parametres "
   ]
  },
  {
   "cell_type": "code",
   "execution_count": 88,
   "id": "030223e1",
   "metadata": {},
   "outputs": [
    {
     "name": "stdout",
     "output_type": "stream",
     "text": [
      "The student Student is born on yyyy-mm-dd and has a email of abcd@ \n"
     ]
    }
   ],
   "source": [
    "## if for exmaple the name or dob is not given when  the fucngtion is called the function instrad of returning an error will print the output with the default parametres given tot the def let us unstand the thing using the same example as above\n",
    "\n",
    "try:\n",
    "\n",
    "    \n",
    "    def college_id2(name1 = 'Student' , dob1 = 'yyyy-mm-dd', email1 = 'abcd@'):\n",
    "        return (f\"The student {name1} is born on {dob1} and has a email of {email1} \")\n",
    "    \n",
    "    college_id2()\n",
    "    print(college_id2())\n",
    "\n",
    "except Exception as e:\n",
    "    print(e)"
   ]
  },
  {
   "cell_type": "markdown",
   "id": "39c9e8ea",
   "metadata": {},
   "source": [
    "#### Variable length arguments\n",
    "#### 1. Positional Arguments : a postional argument is denoted by *args which is used for inputing or iterating over variablea data , meaning adata that is changing constantly as result of which the it will to iteate over a constantly changing variable input fubction specifically used in nwarapper classes \n"
   ]
  },
  {
   "cell_type": "code",
   "execution_count": 89,
   "id": "53eafea0",
   "metadata": {},
   "outputs": [
    {
     "name": "stdout",
     "output_type": "stream",
     "text": [
      "1\n",
      "2\n",
      "3\n",
      "4\n",
      "5\n",
      "6\n",
      "7\n",
      "8\n",
      "LOL\n"
     ]
    }
   ],
   "source": [
    "### ok for example it used to iterate over multiple numbers of variable input :\n",
    "def print_numbers(*args):\n",
    "    for numbers in args :\n",
    "        print(numbers)\n",
    "\n",
    "print_numbers(1 , 2 , 3 , 4 , 5,  6 ,7  ,8 , \"LOL\")"
   ]
  },
  {
   "cell_type": "markdown",
   "id": "a3554c71",
   "metadata": {},
   "source": [
    "#### Keywords Arguments it is used for iterating over keys ans values and is denoted by the **kwargs \n",
    "\n"
   ]
  },
  {
   "cell_type": "code",
   "execution_count": 97,
   "id": "418fe2c6",
   "metadata": {},
   "outputs": [
    {
     "name": "stdout",
     "output_type": "stream",
     "text": [
      "Name:Sparsho\n",
      "Age:25\n",
      "DOB:05-03=1999\n"
     ]
    }
   ],
   "source": [
    "def print_numbers1(**kwargs):\n",
    "    for keys , value   in kwargs.items() :\n",
    "         print(f\"{keys}:{value}\" )\n",
    "\n",
    "print_numbers1(Name = \"Sparsho\" , Age = \"25\" , DOB = \"05-03=1999\" )"
   ]
  },
  {
   "cell_type": "code",
   "execution_count": null,
   "id": "4977fe32",
   "metadata": {},
   "outputs": [],
   "source": []
  }
 ],
 "metadata": {
  "kernelspec": {
   "display_name": "qenv",
   "language": "python",
   "name": "python3"
  },
  "language_info": {
   "codemirror_mode": {
    "name": "ipython",
    "version": 3
   },
   "file_extension": ".py",
   "mimetype": "text/x-python",
   "name": "python",
   "nbconvert_exporter": "python",
   "pygments_lexer": "ipython3",
   "version": "3.13.5"
  }
 },
 "nbformat": 4,
 "nbformat_minor": 5
}
