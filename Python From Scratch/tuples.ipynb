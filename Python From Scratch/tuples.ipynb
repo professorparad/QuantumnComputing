{
 "cells": [
  {
   "cell_type": "markdown",
   "id": "6cade624",
   "metadata": {},
   "source": [
    "\n",
    "# Tuples\n"
   ]
  },
  {
   "cell_type": "markdown",
   "id": "835e692c",
   "metadata": {},
   "source": [
    "### Creating and Accessing Tuples\n",
    "\n",
    "Create a tuple with the first 10 positive integers. Print the tuple.\n"
   ]
  },
  {
   "cell_type": "code",
   "execution_count": 1,
   "id": "dc6b21b1",
   "metadata": {},
   "outputs": [
    {
     "name": "stdout",
     "output_type": "stream",
     "text": [
      "(1, 2, 3, 4, 5, 6, 7, 8, 9, 10)\n"
     ]
    }
   ],
   "source": [
    "try:\n",
    "    tup1 = tuple(range(1 , 11))\n",
    "    print(tup1)\n",
    "except Exception as e:\n",
    "    print(e)"
   ]
  },
  {
   "cell_type": "markdown",
   "id": "657f3016",
   "metadata": {},
   "source": [
    "### Accessing Tuple Elements\n",
    "\n",
    "Print the first, middle, and last elements of the tuple created in Assignment 1."
   ]
  },
  {
   "cell_type": "code",
   "execution_count": 6,
   "id": "1b7c9e65",
   "metadata": {},
   "outputs": [
    {
     "name": "stdout",
     "output_type": "stream",
     "text": [
      "1 5 10\n"
     ]
    }
   ],
   "source": [
    "try:\n",
    "    print(tup1[0] , tup1[4] , tup1[9])\n",
    "except Exception as e:\n",
    "    print(e)"
   ]
  },
  {
   "cell_type": "markdown",
   "id": "132df7bd",
   "metadata": {},
   "source": [
    "### Tuple Slicing\n",
    "\n",
    "Print the first three elements, the last three elements, and the elements from index 2 to 5 of the tuple created in Assignment 1."
   ]
  },
  {
   "cell_type": "code",
   "execution_count": 12,
   "id": "ed303402",
   "metadata": {},
   "outputs": [
    {
     "name": "stdout",
     "output_type": "stream",
     "text": [
      "(1, 2, 3)\n",
      "(8, 9, 10)\n",
      "(3, 4, 5)\n"
     ]
    }
   ],
   "source": [
    "try:\n",
    "     print(tup1[:3])\n",
    "     print(tup1[-3:])\n",
    "     print(tup1[2:5])\n",
    "except Exception as e :\n",
    "    print(e)"
   ]
  },
  {
   "cell_type": "markdown",
   "id": "2068eac0",
   "metadata": {},
   "source": [
    "### Nested Tuples\n",
    "\n",
    "Create a nested tuple representing a 3x3 matrix and print the matrix. Access and print the element at the second row and third column."
   ]
  },
  {
   "cell_type": "code",
   "execution_count": 17,
   "id": "c66cad40",
   "metadata": {},
   "outputs": [
    {
     "name": "stdout",
     "output_type": "stream",
     "text": [
      "6\n"
     ]
    }
   ],
   "source": [
    "try :\n",
    "    tup2 = ((1 , 2 , 3),\n",
    "            (4 , 5 ,6),\n",
    "            (7 , 8 , 9))\n",
    "    print(tup2[1][2])\n",
    "    \n",
    "\n",
    "except Exception as e:\n",
    "    print(e)"
   ]
  },
  {
   "cell_type": "markdown",
   "id": "70c38927",
   "metadata": {},
   "source": [
    "### Tuple Concatenation\n",
    "\n",
    "Concatenate two tuples: (1, 2, 3) and (4, 5, 6). Print the resulting tuple."
   ]
  },
  {
   "cell_type": "code",
   "execution_count": 20,
   "id": "37d8b33a",
   "metadata": {},
   "outputs": [
    {
     "name": "stdout",
     "output_type": "stream",
     "text": [
      "(1, 2, 3, 4, 5, 6)\n"
     ]
    }
   ],
   "source": [
    "try :\n",
    "    tup1 = tuple(range(1 , 4))\n",
    "    tup2 = tuple (range(4 , 7))\n",
    "    tup3 = tup1 + tup2\n",
    "    print(tup3)\n",
    "except Exception as e:\n",
    "    print(e)"
   ]
  },
  {
   "cell_type": "markdown",
   "id": "761766c7",
   "metadata": {},
   "source": [
    "###  Tuple Methods\n",
    "\n",
    "Create a tuple with duplicate elements and count the occurrences of an element. Find the index of the first occurrence of an element in the tuple."
   ]
  },
  {
   "cell_type": "code",
   "execution_count": 1,
   "id": "5c9ebfce",
   "metadata": {},
   "outputs": [
    {
     "name": "stdout",
     "output_type": "stream",
     "text": [
      "Occurrences of 4: 3\n",
      "Index of first occurrence of 2: 1\n"
     ]
    }
   ],
   "source": [
    "tpl = (1, 2, 2, 3, 4, 4, 4, 5)\n",
    "print(f\"Occurrences of 4: {tpl.count(4)}\")\n",
    "print(f\"Index of first occurrence of 2: {tpl.index(2)}\")"
   ]
  },
  {
   "cell_type": "markdown",
   "id": "73d0dc85",
   "metadata": {},
   "source": [
    "###  Unpacking Tuples\n",
    "\n",
    "Create a tuple with 5 elements and unpack it into 5 variables. Print the variables."
   ]
  },
  {
   "cell_type": "code",
   "execution_count": 7,
   "id": "8d326af1",
   "metadata": {},
   "outputs": [
    {
     "name": "stdout",
     "output_type": "stream",
     "text": [
      "(2, 6, 9, 4, 4)\n",
      "2 6 9 4 4\n"
     ]
    }
   ],
   "source": [
    "try:\n",
    "    import random \n",
    "    tup1 = tuple(random.randint(1 , 10) for x in range(5))\n",
    "    print(tup1)\n",
    "    a , b , c ,d , e = tup1\n",
    "    print(a , b , c , d , e)\n",
    "    \n",
    "\n",
    "except Exception as e:\n",
    "    print(e)"
   ]
  },
  {
   "cell_type": "markdown",
   "id": "c8bc4bf1",
   "metadata": {},
   "source": [
    "###  Tuple Conversion\n",
    "\n",
    "Convert a list of the first 5 positive integers to a tuple. Print the tuple."
   ]
  },
  {
   "cell_type": "code",
   "execution_count": 9,
   "id": "5d87e7eb",
   "metadata": {},
   "outputs": [
    {
     "name": "stdout",
     "output_type": "stream",
     "text": [
      "[2, 10, 8, 3, 1]\n",
      "(2, 10, 8, 3, 1)\n"
     ]
    }
   ],
   "source": [
    "try:\n",
    "    import random\n",
    "    list1 = [random.randint(1 , 10) for x in range(5) ]\n",
    "    print(list1)\n",
    "    print(tuple(list1))\n",
    "except Exception as e:\n",
    "    print(e)\n"
   ]
  },
  {
   "cell_type": "markdown",
   "id": "54df42e0",
   "metadata": {},
   "source": [
    "### Tuple of Tuples\n",
    "\n",
    "Create a tuple containing 3 tuples, each with 3 elements. Print the tuple of tuples."
   ]
  },
  {
   "cell_type": "code",
   "execution_count": null,
   "id": "99e3d394",
   "metadata": {},
   "outputs": [
    {
     "name": "stdout",
     "output_type": "stream",
     "text": [
      "((3, 8, 8), (5, 5, 10), (8, 10, 8))\n"
     ]
    }
   ],
   "source": [
    "\n",
    "## this is an easier of creating a tuple of tuples directly using list comprehension \n",
    "try:\n",
    "    import random\n",
    "    tup1 = tuple(tuple(random.randint(1 , 10) for x in range(3)) for y in range(3))\n",
    "    print(tuple(tup1))\n",
    "except Exception as e:\n",
    "    print(e)"
   ]
  },
  {
   "cell_type": "markdown",
   "id": "622127f3",
   "metadata": {},
   "source": [
    "###  Tuple and List\n",
    "\n",
    "Create a tuple with the first 5 positive integers. Convert it to a list, append the number 6, and convert it back to a tuple. Print the resulting tuple."
   ]
  },
  {
   "cell_type": "code",
   "execution_count": 4,
   "id": "31746286",
   "metadata": {},
   "outputs": [
    {
     "name": "stdout",
     "output_type": "stream",
     "text": [
      "[10, 3, 10, 2, 7, 6]\n"
     ]
    }
   ],
   "source": [
    "try:\n",
    "    import random \n",
    "    tup1 = tuple(random.randint(1 ,10) for x in range(5))\n",
    "    list1 = list(tup1)\n",
    "    list1.append(6)\n",
    "    tuple(list1)\n",
    "    print(list1)\n",
    "except Exception as e:\n",
    "    print(e)\n"
   ]
  },
  {
   "cell_type": "markdown",
   "id": "e45d415a",
   "metadata": {},
   "source": [
    "###  Tuple and String\n",
    "\n",
    "\n",
    "Create a tuple with the characters of a string. Join the tuple elements into a single string. Print the string."
   ]
  },
  {
   "cell_type": "code",
   "execution_count": 9,
   "id": "60dc59ab",
   "metadata": {},
   "outputs": [
    {
     "name": "stdout",
     "output_type": "stream",
     "text": [
      "olefinic\n",
      "('o', 'l', 'e', 'f', 'i', 'n', 'i', 'c')\n",
      "olefinic\n"
     ]
    }
   ],
   "source": [
    "import random\n",
    "from nltk.corpus import words\n",
    "eng = words.words()\n",
    "randomword = random.choice([x for x in eng if 5<= len(x) <=8])\n",
    "print(randomword)\n",
    "tup1 = tuple(randomword)\n",
    "print(tup1)\n",
    "joined_string = ''.join(tup1)\n",
    "print(joined_string)\n",
    "\n"
   ]
  },
  {
   "cell_type": "markdown",
   "id": "cdc48241",
   "metadata": {},
   "source": [
    "###  Tuple and Dictionary\n",
    "\n",
    "Create a dictionary with tuple keys and integer values. Print the dictionary."
   ]
  },
  {
   "cell_type": "code",
   "execution_count": 15,
   "id": "52e2ffe5",
   "metadata": {},
   "outputs": [
    {
     "name": "stdout",
     "output_type": "stream",
     "text": [
      "{'Carl': (1, 8, 5), 'Lauren': (6, 8, 3), 'Amanda': (4, 1, 5)}\n"
     ]
    }
   ],
   "source": [
    "try:\n",
    "    import random\n",
    "    from faker import Faker\n",
    "    l = Faker()\n",
    "    tup1= tuple(tuple(random.randint(1 ,10) for x in range(3)) for y in range(3))\n",
    "    dict1 = dict(zip(list(l.first_name() for y in range(3)) , tup1))\n",
    "    print(dict1)\n",
    "except Exception as e:\n",
    "    print(e)"
   ]
  },
  {
   "cell_type": "markdown",
   "id": "19fe3062",
   "metadata": {},
   "source": [
    "### Nested Tuple Iteration\n",
    "\n",
    "Create a nested tuple and iterate over the elements, printing each element."
   ]
  },
  {
   "cell_type": "code",
   "execution_count": 17,
   "id": "8bbf0364",
   "metadata": {},
   "outputs": [
    {
     "name": "stdout",
     "output_type": "stream",
     "text": [
      "((5, 1, 6), (9, 9, 5), (5, 9, 5))\n",
      "5\n",
      "1\n",
      "6\n",
      "9\n",
      "9\n",
      "5\n",
      "5\n",
      "9\n",
      "5\n"
     ]
    }
   ],
   "source": [
    "try:\n",
    "    import random\n",
    "    tup1 = tuple(tuple(random.randint(1 ,10) for x in range(3)) for y in range(3))\n",
    "    print(tup1)\n",
    "    for rows in tup1 :\n",
    "        for values in rows:\n",
    "            print(values)\n",
    "except Exception as e:\n",
    "    print(e)"
   ]
  },
  {
   "cell_type": "markdown",
   "id": "0bfaa7cc",
   "metadata": {},
   "source": [
    "###  Tuple and Set\n",
    "\n",
    "Create a tuple with duplicate elements. Convert it to a set to remove duplicates and print the resulting set."
   ]
  },
  {
   "cell_type": "code",
   "execution_count": 27,
   "id": "826ffd96",
   "metadata": {},
   "outputs": [
    {
     "name": "stdout",
     "output_type": "stream",
     "text": [
      "(6, 7, 5, 5, 8)\n",
      "{8, 5, 6, 7}\n"
     ]
    }
   ],
   "source": [
    "try:\n",
    "    tup4 = tuple(random.randint(1 , 10) for x in range(5))\n",
    "    print(tup4)\n",
    "    print(set(tup4))\n",
    "except Exception as e:\n",
    "    print(e)"
   ]
  },
  {
   "cell_type": "markdown",
   "id": "4389399b",
   "metadata": {},
   "source": [
    "### Tuple Functions\n",
    "\n",
    "Write functions that take a tuple and return the minimum, maximum, and sum of the elements. Print the results for a sample tuple."
   ]
  },
  {
   "cell_type": "code",
   "execution_count": 38,
   "id": "546a8c9c",
   "metadata": {},
   "outputs": [
    {
     "name": "stdout",
     "output_type": "stream",
     "text": [
      "[1, 1, 4, 4, 5]\n",
      "5\n",
      "1\n",
      "15\n"
     ]
    }
   ],
   "source": [
    "def max_val(tup1):\n",
    "    return max(tup1)\n",
    "def min_val(tup1):\n",
    "    return min(tup1)\n",
    "def sum_val(tup1):\n",
    "    return sum(tup1)\n",
    "tup1 = tuple(random.randint(1 , 10) for x in range(5))\n",
    "print(sorted(tup1))\n",
    "print(max_val(tup1))\n",
    "print(min_val(tup1))\n",
    "print(sum_val(tup1))"
   ]
  },
  {
   "cell_type": "markdown",
   "id": "f04e8e79",
   "metadata": {},
   "source": []
  }
 ],
 "metadata": {
  "kernelspec": {
   "display_name": "qenv",
   "language": "python",
   "name": "python3"
  },
  "language_info": {
   "codemirror_mode": {
    "name": "ipython",
    "version": 3
   },
   "file_extension": ".py",
   "mimetype": "text/x-python",
   "name": "python",
   "nbconvert_exporter": "python",
   "pygments_lexer": "ipython3",
   "version": "3.13.5"
  }
 },
 "nbformat": 4,
 "nbformat_minor": 5
}
