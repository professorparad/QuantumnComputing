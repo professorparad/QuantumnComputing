{
 "cells": [
  {
   "cell_type": "code",
   "execution_count": 1,
   "id": "5440bb64",
   "metadata": {},
   "outputs": [],
   "source": [
    "mydictionary= {'My marks is ': 45}"
   ]
  },
  {
   "cell_type": "code",
   "execution_count": 2,
   "id": "8dc4761f",
   "metadata": {},
   "outputs": [
    {
     "data": {
      "text/plain": [
       "45"
      ]
     },
     "execution_count": 2,
     "metadata": {},
     "output_type": "execute_result"
    }
   ],
   "source": [
    "mydictionary['My marks is ']\n",
    "## so as we can see that dictionary is same as a dictionary it is a value thatt \n"
   ]
  },
  {
   "cell_type": "code",
   "execution_count": 6,
   "id": "63af03ee",
   "metadata": {},
   "outputs": [],
   "source": [
    "mylist = ['Apple' , 'Banana ' , 'Sitafal']\n",
    "mydictionary = {'key1': 23 , 'key2': 4 , 'key3': [1 , 2 , 3 ] , 'key5': mylist}\n"
   ]
  },
  {
   "cell_type": "code",
   "execution_count": 8,
   "id": "e9ef4c8a",
   "metadata": {},
   "outputs": [
    {
     "data": {
      "text/plain": [
       "'Sitafal'"
      ]
     },
     "execution_count": 8,
     "metadata": {},
     "output_type": "execute_result"
    }
   ],
   "source": [
    "mydictionary['key5'][2]"
   ]
  },
  {
   "cell_type": "code",
   "execution_count": 9,
   "id": "a24f11ee",
   "metadata": {},
   "outputs": [
    {
     "data": {
      "text/plain": [
       "dict_keys(['key1', 'key2', 'key3', 'key5'])"
      ]
     },
     "execution_count": 9,
     "metadata": {},
     "output_type": "execute_result"
    }
   ],
   "source": [
    "mydictionary.keys()"
   ]
  },
  {
   "cell_type": "code",
   "execution_count": 10,
   "id": "1b57c8f4",
   "metadata": {},
   "outputs": [
    {
     "data": {
      "text/plain": [
       "dict_values([23, 4, [1, 2, 3], ['Apple', 'Banana ', 'Sitafal']])"
      ]
     },
     "execution_count": 10,
     "metadata": {},
     "output_type": "execute_result"
    }
   ],
   "source": [
    "mydictionary.values()"
   ]
  },
  {
   "cell_type": "code",
   "execution_count": 11,
   "id": "0bc63a46",
   "metadata": {},
   "outputs": [
    {
     "data": {
      "text/plain": [
       "{'key1': 23,\n",
       " 'key2': 4,\n",
       " 'key3': [1, 2, 3],\n",
       " 'key5': ['Apple', 'Banana ', 'Sitafal']}"
      ]
     },
     "execution_count": 11,
     "metadata": {},
     "output_type": "execute_result"
    }
   ],
   "source": [
    "mydictionary.copy()"
   ]
  },
  {
   "cell_type": "code",
   "execution_count": 13,
   "id": "9100dfb6",
   "metadata": {},
   "outputs": [
    {
     "data": {
      "text/plain": [
       "['Apple', 'Banana ', 'Sitafal']"
      ]
     },
     "execution_count": 13,
     "metadata": {},
     "output_type": "execute_result"
    }
   ],
   "source": [
    "mydictionary.pop('key5')"
   ]
  },
  {
   "cell_type": "code",
   "execution_count": 14,
   "id": "2bf32fa7",
   "metadata": {},
   "outputs": [
    {
     "data": {
      "text/plain": [
       "{'key1': 23, 'key2': 4, 'key3': [1, 2, 3]}"
      ]
     },
     "execution_count": 14,
     "metadata": {},
     "output_type": "execute_result"
    }
   ],
   "source": [
    "mydictionary "
   ]
  },
  {
   "cell_type": "code",
   "execution_count": null,
   "id": "59e32e82",
   "metadata": {},
   "outputs": [],
   "source": []
  }
 ],
 "metadata": {
  "kernelspec": {
   "display_name": "qenv",
   "language": "python",
   "name": "python3"
  },
  "language_info": {
   "codemirror_mode": {
    "name": "ipython",
    "version": 3
   },
   "file_extension": ".py",
   "mimetype": "text/x-python",
   "name": "python",
   "nbconvert_exporter": "python",
   "pygments_lexer": "ipython3",
   "version": "3.13.5"
  }
 },
 "nbformat": 4,
 "nbformat_minor": 5
}
