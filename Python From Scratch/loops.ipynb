{
<<<<<<< Updated upstream
 "cells": [],
 "metadata": {
  "language_info": {
   "name": "python"
=======
 "cells": [
  {
   "cell_type": "code",
   "execution_count": 50,
   "id": "cbb9b7df",
   "metadata": {},
   "outputs": [],
   "source": [
    "##ok now let us start with for loops"
   ]
  },
  {
   "cell_type": "code",
   "execution_count": 51,
   "id": "6de6430a",
   "metadata": {},
   "outputs": [
    {
     "name": "stdout",
     "output_type": "stream",
     "text": [
      "1 is odd\n",
      "2 is even\n",
      "3 is odd\n",
      "4 is even\n",
      "5 is odd\n",
      "6 is even\n",
      "7 is odd\n",
      "8 is even\n"
     ]
    }
   ],
   "source": [
    "let= [1,2,3,4,5,6,7,8]\n",
    "for i in let:\n",
    "    if(i%2==0):\n",
    "        print(i, \"is even\")\n",
    "    else:\n",
    "        print(i, \"is odd\")      "
   ]
  },
  {
   "cell_type": "code",
   "execution_count": 52,
   "id": "a357ddc4",
   "metadata": {},
   "outputs": [],
   "source": [
    "# now we can use the concept of strings in for loops also"
   ]
  },
  {
   "cell_type": "code",
   "execution_count": 53,
   "id": "a52eb7ec",
   "metadata": {},
   "outputs": [],
   "source": [
    "mystring = 'Sparsho Chakraborty'\n",
    "vowels = ['a', 'e', 'i', 'o', 'u', 'A', 'E', 'I', 'O', 'U'] \n",
    "a = 0\n",
    "b = 0"
   ]
  },
  {
   "cell_type": "code",
   "execution_count": 54,
   "id": "78f45e9a",
   "metadata": {},
   "outputs": [
    {
     "name": "stdout",
     "output_type": "stream",
     "text": [
      "60\n",
      "Number of vowels in the string is:  5\n",
      "Number of consonants in the string is:  13\n"
     ]
    }
   ],
   "source": [
    "for letters in mystring :\n",
    "    if letters in vowels:\n",
    "        a += 1\n",
    "    elif letters.isalpha(): # Check if it's a letter and not a vowel\n",
    "        b += 1\n",
    "        \n",
    "       \n",
    "print(mystring.__sizeof__())\n",
    "print(\"Number of vowels in the string is: \", a)\n",
    "print(\"Number of consonants in the string is: \", b)"
   ]
  },
  {
   "cell_type": "code",
   "execution_count": 55,
   "id": "04f4d01f",
   "metadata": {},
   "outputs": [],
   "source": [
    "## we can do the same thing with tuples as we know tuples are immuatbale nature it is important of us to know these things"
   ]
  },
  {
   "cell_type": "code",
   "execution_count": 56,
   "id": "d40329c5",
   "metadata": {},
   "outputs": [
    {
     "name": "stdout",
     "output_type": "stream",
     "text": [
      "the vector representation of the point is:  1 i + 2 j\n",
      "the vector representation of the point is:  3 i + 4 j\n",
      "the vector representation of the point is:  5 i + 6 j\n",
      "the vector representation of the point is:  7 i + 8 j\n"
     ]
    }
   ],
   "source": [
    "mylist = [(1 , 2), (3, 4), (5, 6), (7, 8)] ## think of this as the coordinates of a point in a 2d plane \n",
    "for x, y in mylist:\n",
    "    print ('the vector representation of the point is: ', x,'i',  '+' ,  y , 'j')  ## this is a vector representation of the point in a 2d plane\n"
   ]
  },
  {
   "cell_type": "code",
   "execution_count": 58,
   "id": "48042471",
   "metadata": {},
   "outputs": [],
   "source": [
    "myvectors = [(1, 2, 3), (4, 5, 6), (7, 8, 9)]  ## think of this as the coordinates of a point in a 3d plane"
   ]
  },
  {
   "cell_type": "code",
   "execution_count": 59,
   "id": "7db83f8d",
   "metadata": {},
   "outputs": [],
   "source": [
    "# now we will use the concept of break , continue and pass"
   ]
  },
  {
   "cell_type": "code",
   "execution_count": 60,
   "id": "6b425948",
   "metadata": {},
   "outputs": [],
   "source": [
    "## so  abreak satemet breaks the running of the for lopps if we want to stop the loop at a desired point "
   ]
  },
  {
   "cell_type": "code",
   "execution_count": 61,
   "id": "871505fe",
   "metadata": {},
   "outputs": [
    {
     "name": "stdout",
     "output_type": "stream",
     "text": [
      "the vector representation of the point in 3d plane is:  1 i + 2 j + 3 k\n"
     ]
    }
   ],
   "source": [
    "for x , y , z in myvectors:\n",
    "    if x == 4:  # if we want to stop the loop when x is 4\n",
    "        break\n",
    "    print('the vector representation of the point in 3d plane is: ', x, 'i', '+', y, 'j', '+', z, 'k')"
   ]
  },
  {
   "cell_type": "code",
   "execution_count": 62,
   "id": "53a068bc",
   "metadata": {},
   "outputs": [],
   "source": [
    "## As you can see the when using a break statement the if statemet check for the condition to be met if boolean true then the loop terminates itself "
   ]
  },
  {
   "cell_type": "code",
   "execution_count": 63,
   "id": "05850cdf",
   "metadata": {},
   "outputs": [],
   "source": [
    "#now we will use the concept of continue . A continue function is or a statemnt skips the desired paparemete and continues executing the loop. Let us etake the same example as above"
   ]
  },
  {
   "cell_type": "code",
   "execution_count": 65,
   "id": "b3b14fab",
   "metadata": {},
   "outputs": [
    {
     "name": "stdout",
     "output_type": "stream",
     "text": [
      "the vector representation of the point in 3d plane is:  1 i + 2 j + 3 k\n",
      "the vector representation of the point in 3d plane is:  7 i + 8 j + 9 k\n"
     ]
    }
   ],
   "source": [
    "for x , y , z in myvectors:\n",
    "    if x == 4:  # if we want to stop the loop when x is 4\n",
    "        continue\n",
    "    print('the vector representation of the point in 3d plane is: ', x, 'i', '+', y, 'j', '+', z, 'k')"
   ]
  },
  {
   "cell_type": "code",
   "execution_count": null,
   "id": "85fef5d1",
   "metadata": {},
   "outputs": [],
   "source": [
    "## As you can see that that the loop skisp the tuple having paramete x = 4 , and continue sthe loop "
   ]
  },
  {
   "cell_type": "markdown",
   "id": "6cdc8515",
   "metadata": {},
   "source": [
    "## While Loop"
   ]
  },
  {
   "cell_type": "code",
   "execution_count": 68,
   "id": "272b2593",
   "metadata": {},
   "outputs": [],
   "source": [
    "## a while loop is known as an enter controlled loop which checks at first whether the condition is met or not and then allows the system to execute the necessary condition "
   ]
  },
  {
   "cell_type": "code",
   "execution_count": 74,
   "id": "1e2c5136",
   "metadata": {},
   "outputs": [
    {
     "name": "stdout",
     "output_type": "stream",
     "text": [
      "0\n",
      "1\n",
      "2\n",
      "3\n",
      "4\n",
      "5\n",
      "6\n",
      "7\n",
      "8\n",
      "9\n"
     ]
    }
   ],
   "source": [
    "i = 0\n",
    "while i < 10 :\n",
    "  print(i)\n",
    "  i = i+1"
   ]
  },
  {
   "cell_type": "code",
   "execution_count": 75,
   "id": "62895f5b",
   "metadata": {},
   "outputs": [],
   "source": [
    "#so while loop is just like a if statment and for loop together but remember a for loop has more time complexity than a while loop as it checks for the condition at every iteration and then executes the loop whereas a while loop checks for the condition at first and then executes the loop"
   ]
  },
  {
   "cell_type": "code",
   "execution_count": null,
   "id": "a3d2bbb9",
   "metadata": {},
   "outputs": [],
   "source": []
  }
 ],
 "metadata": {
  "kernelspec": {
   "display_name": "Python (qenv)",
   "language": "python",
   "name": "qenv"
  },
  "language_info": {
   "codemirror_mode": {
    "name": "ipython",
    "version": 3
   },
   "file_extension": ".py",
   "mimetype": "text/x-python",
   "name": "python",
   "nbconvert_exporter": "python",
   "pygments_lexer": "ipython3",
   "version": "3.13.5"
>>>>>>> Stashed changes
  }
 },
 "nbformat": 4,
 "nbformat_minor": 5
}
