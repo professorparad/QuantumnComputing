{
 "cells": [
  {
   "cell_type": "code",
   "execution_count": 76,
   "id": "b2fdeaa5",
   "metadata": {},
   "outputs": [],
   "source": [
    "## here we will learn to define  the concepts of loops , interation etc "
   ]
  },
  {
   "cell_type": "code",
   "execution_count": null,
   "id": "f9dde348",
   "metadata": {},
   "outputs": [],
   "source": [
    "#so first we will learn the concept of for loop. a for loop is a conditional loop that takes in input paramenters and constantly iter it until the correct conditions are met "
   ]
  }
 ],
 "metadata": {
  "language_info": {
   "name": "python"
  }
 },
 "nbformat": 4,
 "nbformat_minor": 5
}
