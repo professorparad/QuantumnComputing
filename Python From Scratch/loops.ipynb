{
 "cells": [
  {
   "cell_type": "code",
   "execution_count": 76,
   "id": "b2fdeaa5",
   "metadata": {},
   "outputs": [],
   "source": [
    "## here we will learn to define  the concepts of loops , interation etc "
   ]
  },
  {
   "cell_type": "code",
   "execution_count": 77,
   "id": "f9dde348",
   "metadata": {},
   "outputs": [],
   "source": [
    "#so first we will learn the concept of for loop. a for loop is a conditional loop that takes in input paramenters and constantly iter it until the correct conditions are met "
   ]
  },
  {
   "cell_type": "code",
   "execution_count": 78,
   "id": "aab68720",
   "metadata": {},
   "outputs": [],
   "source": [
    "list1 = [1,2,3,4,5,6,7,8,9,10] # so inorder to print a list of numbers we can use for loop "
   ]
  },
  {
   "cell_type": "code",
   "execution_count": 79,
   "id": "f03bdd58",
   "metadata": {},
   "outputs": [
    {
     "name": "stdout",
     "output_type": "stream",
     "text": [
      "1\n",
      "2\n",
      "3\n",
      "4\n",
      "5\n",
      "6\n",
      "7\n",
      "8\n",
      "9\n",
      "10\n"
     ]
    }
   ],
   "source": [
    "for items in list1:\n",
    "    print(items)"
   ]
  },
  {
   "cell_type": "code",
   "execution_count": 89,
   "id": "4ab09de8",
   "metadata": {},
   "outputs": [
    {
     "name": "stdout",
     "output_type": "stream",
     "text": [
      "name: John\n",
      "age: 30\n",
      "city: New York\n"
     ]
    }
   ],
   "source": [
    "# we can do the same for dictionaries as well \n",
    "mydicti = {'name': 'John', 'age': 30, 'city': 'New York'}\n",
    "for key, value in mydicti.items():\n",
    "    print(f\"{key}: {value}\")"
   ]
  },
  {
   "cell_type": "code",
   "execution_count": 92,
   "id": "6348e595",
   "metadata": {},
   "outputs": [],
   "source": [
    "# now let us include the if and or statements in the loops to create advanced loops "
   ]
  },
  {
   "cell_type": "code",
   "execution_count": 93,
   "id": "f33433bb",
   "metadata": {},
   "outputs": [],
   "source": [
    "tuple1 = (1, 2, 3, 4, 5, 6, 7, 8, 9, 10)"
   ]
  },
  {
   "cell_type": "code",
   "execution_count": 94,
   "id": "d99e371b",
   "metadata": {},
   "outputs": [
    {
     "name": "stdout",
     "output_type": "stream",
     "text": [
      "1 is odd number \n",
      "2 is even number \n",
      "3 is odd number \n",
      "4 is even number \n",
      "5 is odd number \n",
      "6 is even number \n",
      "7 is odd number \n",
      "8 is even number \n",
      "9 is odd number \n",
      "10 is even number \n"
     ]
    }
   ],
   "source": [
    "for i in tuple1 :\n",
    "    if i%2 == 0 :\n",
    "        print (f\"{i} is even number \")\n",
    "    else :\n",
    "        print (f\"{i} is odd number \")"
   ]
  },
  {
   "cell_type": "code",
   "execution_count": 96,
   "id": "00bdda26",
   "metadata": {},
   "outputs": [],
   "source": [
    "#so we can use the same concept as above with while loop also"
   ]
  },
  {
   "cell_type": "code",
   "execution_count": 111,
   "id": "30c58d23",
   "metadata": {},
   "outputs": [
    {
     "name": "stdout",
     "output_type": "stream",
     "text": [
      "2 is a prime number\n"
     ]
    }
   ],
   "source": [
    "i = int(input(\"Enter a number: \"))\n",
    "a = 2\n",
    "is_prime = True\n",
    "while a < i:\n",
    "    if i % a == 0:\n",
    "        print(f\"{i} is not a prime number\")\n",
    "        is_prime = False\n",
    "        break\n",
    "    a += 1\n",
    "if is_prime and i > 1:\n",
    "    print(f\"{i} is a prime number\")"
   ]
  },
  {
   "cell_type": "code",
   "execution_count": 112,
   "id": "6d05ab6f",
   "metadata": {},
   "outputs": [],
   "source": [
    "## as you can see that we have already used the break statemet in the while it says that when a we want to terminate the program at aparticular parameter we use the break statement "
   ]
  },
  {
   "cell_type": "code",
   "execution_count": 113,
   "id": "36886f9c",
   "metadata": {},
   "outputs": [],
   "source": [
    "# now we will use continue and pass , continue statement is to skipp the paraticular parametre and pass is used to pass the statement `"
   ]
  },
  {
   "cell_type": "code",
   "execution_count": 137,
   "id": "c03816a7",
   "metadata": {},
   "outputs": [
    {
     "name": "stdout",
     "output_type": "stream",
     "text": [
      "1\n",
      "2\n",
      "3\n",
      "4\n",
      "6\n",
      "7\n",
      "8\n",
      "9\n",
      "10\n"
     ]
    }
   ],
   "source": [
    "mylist = [1, 2, 3, 4, 5, 6, 7, 8, 9, 10]\n",
    "for item in mylist:\n",
    "     if ( item == 5):\n",
    "        continue\n",
    "     print(item)"
   ]
  },
  {
   "cell_type": "code",
   "execution_count": 138,
   "id": "4713d5af",
   "metadata": {},
   "outputs": [],
   "source": [
    "#so as you can see that 5 has been skipped in upper case "
   ]
  },
  {
   "cell_type": "code",
   "execution_count": 144,
   "id": "729ab07d",
   "metadata": {},
   "outputs": [
    {
     "name": "stdout",
     "output_type": "stream",
     "text": [
      "0\n",
      "1\n",
      "1\n",
      "2\n",
      "3\n",
      "5\n",
      "8\n"
     ]
    }
   ],
   "source": [
    "# we will use the concept of ehile loop to generate a fibonacci series\n",
    "a = 0\n",
    "b = 1 \n",
    "print (a)\n",
    "print (b)\n",
    "i = 0\n",
    "f = int(input(\"Enter the range if the fiboinacci series: \"))\n",
    "while i<f: \n",
    "    c = a + b\n",
    "    a = b\n",
    "    b = c\n",
    "    print (c)\n",
    "    i = i+1\n",
    "    "
   ]
  },
  {
   "cell_type": "code",
   "execution_count": 145,
   "id": "532daa0a",
   "metadata": {},
   "outputs": [],
   "source": [
    "# here is not the end of loops there are thounsands of different implemetnation loops in python "
   ]
  },
  {
   "cell_type": "code",
   "execution_count": null,
   "id": "837a0d67",
   "metadata": {},
   "outputs": [],
   "source": []
  },
  {
   "cell_type": "code",
   "execution_count": null,
   "metadata": {},
   "outputs": [],
   "source": []
  },
  {
   "cell_type": "code",
   "execution_count": null,
   "id": "5b83e0ee",
   "metadata": {},
   "outputs": [],
   "source": []
  }
 ],
 "metadata": {
  "language_info": {
   "name": "python"
  }
 },
 "nbformat": 4,
 "nbformat_minor": 5
}
