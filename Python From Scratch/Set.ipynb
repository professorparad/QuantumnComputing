{
 "cells": [
  {
   "cell_type": "markdown",
   "id": "9b9543eb",
   "metadata": {},
   "source": [
    "Just like Lists and Dictionaries sets are also data structure use din python but just like a traditional srt in mathematics a set contains all the member elements a s a well deined that means they cannot  have more than same item repeated \n",
    "\n"
   ]
  },
  {
   "cell_type": "code",
   "execution_count": 1,
   "id": "c9b9b83d",
   "metadata": {},
   "outputs": [],
   "source": [
    "myset= {1, 2, 1,}"
   ]
  },
  {
   "cell_type": "code",
   "execution_count": 2,
   "id": "9347989f",
   "metadata": {},
   "outputs": [
    {
     "data": {
      "text/plain": [
       "{1, 2}"
      ]
     },
     "execution_count": 2,
     "metadata": {},
     "output_type": "execute_result"
    }
   ],
   "source": [
    "myset"
   ]
  },
  {
   "cell_type": "code",
   "execution_count": 3,
   "id": "35102b53",
   "metadata": {},
   "outputs": [
    {
     "data": {
      "text/plain": [
       "set"
      ]
     },
     "execution_count": 3,
     "metadata": {},
     "output_type": "execute_result"
    }
   ],
   "source": [
    "type (myset)"
   ]
  },
  {
   "cell_type": "code",
   "execution_count": 4,
   "id": "d5841d0c",
   "metadata": {},
   "outputs": [],
   "source": [
    "#we can change a list to a set and also change a dictionary to a set"
   ]
  },
  {
   "cell_type": "code",
   "execution_count": 5,
   "id": "2dfcc19a",
   "metadata": {},
   "outputs": [],
   "source": [
    "mylist = [1 , 2, 3 ,4 , 4 , 1]"
   ]
  },
  {
   "cell_type": "code",
   "execution_count": 6,
   "id": "2d656342",
   "metadata": {},
   "outputs": [],
   "source": [
    "myset= set(mylist)"
   ]
  },
  {
   "cell_type": "code",
   "execution_count": 7,
   "id": "7133d6b6",
   "metadata": {},
   "outputs": [
    {
     "data": {
      "text/plain": [
       "{1, 2, 3, 4}"
      ]
     },
     "execution_count": 7,
     "metadata": {},
     "output_type": "execute_result"
    }
   ],
   "source": [
    "myset"
   ]
  },
  {
   "cell_type": "code",
   "execution_count": 8,
   "id": "04afc288",
   "metadata": {},
   "outputs": [],
   "source": [
    "myset.add(5)"
   ]
  },
  {
   "cell_type": "code",
   "execution_count": 9,
   "id": "0e2bc213",
   "metadata": {},
   "outputs": [
    {
     "data": {
      "text/plain": [
       "{1, 2, 3, 4, 5}"
      ]
     },
     "execution_count": 9,
     "metadata": {},
     "output_type": "execute_result"
    }
   ],
   "source": [
    "myset"
   ]
  },
  {
   "cell_type": "code",
   "execution_count": 10,
   "id": "57be9cd8",
   "metadata": {},
   "outputs": [],
   "source": [
    "# so we can add a number or data to a set as a result just like list append "
   ]
  },
  {
   "cell_type": "code",
   "execution_count": 11,
   "id": "eb61097e",
   "metadata": {},
   "outputs": [],
   "source": [
    "myset = {}"
   ]
  },
  {
   "cell_type": "code",
   "execution_count": 12,
   "id": "ec157f1d",
   "metadata": {},
   "outputs": [],
   "source": [
    "# this creates an empty set for entering imported data"
   ]
  },
  {
   "cell_type": "code",
   "execution_count": null,
   "id": "34ff6173",
   "metadata": {},
   "outputs": [],
   "source": []
  },
  {
   "cell_type": "code",
   "execution_count": null,
   "id": "a267ef00",
   "metadata": {},
   "outputs": [],
   "source": []
  }
 ],
 "metadata": {
  "kernelspec": {
   "display_name": "Python (qenv)",
   "language": "python",
   "name": "qenv"
  },
  "language_info": {
   "codemirror_mode": {
    "name": "ipython",
    "version": 3
   },
   "file_extension": ".py",
   "mimetype": "text/x-python",
   "name": "python",
   "nbconvert_exporter": "python",
   "pygments_lexer": "ipython3",
   "version": "3.13.5"
  }
 },
 "nbformat": 4,
 "nbformat_minor": 5
}
