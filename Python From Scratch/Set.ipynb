{
 "cells": [
  {
   "cell_type": "markdown",
   "id": "9b9543eb",
   "metadata": {},
   "source": [
    "Just like Lists and Dictionaries sets are also data structure use din python but just like a traditional srt in mathematics a set contains all the member elements a s a well deined that means they cannot  have more than same item repeated \n",
    "\n"
   ]
  },
  {
   "cell_type": "code",
   "execution_count": 4,
   "id": "c9b9b83d",
   "metadata": {},
   "outputs": [],
   "source": [
    "myset= {1, 2, 1,}"
   ]
  },
  {
   "cell_type": "code",
   "execution_count": 5,
   "id": "9347989f",
   "metadata": {},
   "outputs": [
    {
     "data": {
      "text/plain": [
       "{1, 2}"
      ]
     },
     "execution_count": 5,
     "metadata": {},
     "output_type": "execute_result"
    }
   ],
   "source": [
    "myset"
   ]
  },
  {
   "cell_type": "code",
   "execution_count": 6,
   "id": "35102b53",
   "metadata": {},
   "outputs": [
    {
     "data": {
      "text/plain": [
       "set"
      ]
     },
     "execution_count": 6,
     "metadata": {},
     "output_type": "execute_result"
    }
   ],
   "source": [
    "type (myset)"
   ]
  },
  {
   "cell_type": "code",
   "execution_count": 7,
   "id": "d5841d0c",
   "metadata": {},
   "outputs": [],
   "source": [
    "#we can change a list to a set and also change a dictionary to a set"
   ]
  },
  {
   "cell_type": "code",
   "execution_count": 8,
   "id": "2dfcc19a",
   "metadata": {},
   "outputs": [],
   "source": [
    "mylist = [1 , 2, 3 ,4 , 4 , 1]"
   ]
  },
  {
   "cell_type": "code",
   "execution_count": 9,
   "id": "2d656342",
   "metadata": {},
   "outputs": [],
   "source": [
    "myset= set(mylist)"
   ]
  },
  {
   "cell_type": "code",
   "execution_count": 10,
   "id": "7133d6b6",
   "metadata": {},
   "outputs": [
    {
     "data": {
      "text/plain": [
       "{1, 2, 3, 4}"
      ]
     },
     "execution_count": 10,
     "metadata": {},
     "output_type": "execute_result"
    }
   ],
   "source": [
    "myset"
   ]
  },
  {
   "cell_type": "code",
   "execution_count": 11,
   "id": "04afc288",
   "metadata": {},
   "outputs": [],
   "source": [
    "myset.add(5)"
   ]
  },
  {
   "cell_type": "code",
   "execution_count": 12,
   "id": "0e2bc213",
   "metadata": {},
   "outputs": [
    {
     "data": {
      "text/plain": [
       "{1, 2, 3, 4, 5}"
      ]
     },
     "execution_count": 12,
     "metadata": {},
     "output_type": "execute_result"
    }
   ],
   "source": [
    "myset"
   ]
  },
  {
   "cell_type": "code",
   "execution_count": 13,
   "id": "57be9cd8",
   "metadata": {},
   "outputs": [],
   "source": [
    "# so we can add a number or data to a set as a result just like list append "
   ]
  },
  {
   "cell_type": "code",
   "execution_count": 14,
   "id": "eb61097e",
   "metadata": {},
   "outputs": [],
   "source": [
    "myset = {}"
   ]
  },
  {
   "cell_type": "code",
   "execution_count": 15,
   "id": "ec157f1d",
   "metadata": {},
   "outputs": [],
   "source": [
    "# this creates an empty set for entering imported data"
   ]
  },
  {
   "cell_type": "code",
   "execution_count": 17,
   "id": "09503f6e",
   "metadata": {},
   "outputs": [],
   "source": [
    "myset = set()\n",
    "myset.add(1)"
   ]
  },
  {
   "cell_type": "code",
   "execution_count": 18,
   "id": "34ff6173",
   "metadata": {},
   "outputs": [
    {
     "data": {
      "text/plain": [
       "{1}"
      ]
     },
     "execution_count": 18,
     "metadata": {},
     "output_type": "execute_result"
    }
   ],
   "source": [
    "myset"
   ]
  },
  {
   "cell_type": "code",
   "execution_count": 22,
   "id": "a267ef00",
   "metadata": {},
   "outputs": [],
   "source": [
    "myset.update(mylist)\n",
    "# inorder to add a list to a set we need to use the update method as because add method only adds one element at a time and also it lists are immuatable in nature we cannot use to add  method to append a list in a set"
   ]
  },
  {
   "cell_type": "code",
   "execution_count": 23,
   "id": "cdcab470",
   "metadata": {},
   "outputs": [],
   "source": [
    "mydict = {'a': 1, 'b': 2, 'c': 3}"
   ]
  },
  {
   "cell_type": "code",
   "execution_count": 21,
   "id": "89e85e4a",
   "metadata": {},
   "outputs": [
    {
     "data": {
      "text/plain": [
       "{1, 2, 3, 4}"
      ]
     },
     "execution_count": 21,
     "metadata": {},
     "output_type": "execute_result"
    }
   ],
   "source": [
    "myset"
   ]
  },
  {
   "cell_type": "code",
   "execution_count": 24,
   "id": "22476622",
   "metadata": {},
   "outputs": [],
   "source": [
    "myset.update(mydict)\n",
    "# this will add the keys of the dictionary to the set"
   ]
  },
  {
   "cell_type": "code",
   "execution_count": 25,
   "id": "2cbbadc1",
   "metadata": {},
   "outputs": [
    {
     "data": {
      "text/plain": [
       "{1, 2, 3, 4, 'a', 'b', 'c'}"
      ]
     },
     "execution_count": 25,
     "metadata": {},
     "output_type": "execute_result"
    }
   ],
   "source": [
    "myset"
   ]
  },
  {
   "cell_type": "code",
   "execution_count": 26,
   "id": "ef529096",
   "metadata": {},
   "outputs": [],
   "source": [
    "# but if we want to add the values of the dictionary to the set we can use the values method"
   ]
  },
  {
   "cell_type": "code",
   "execution_count": 33,
   "id": "f3673a28",
   "metadata": {},
   "outputs": [],
   "source": [
    "myset.update(mydict.values())"
   ]
  },
  {
   "cell_type": "code",
   "execution_count": 31,
   "id": "ada9c390",
   "metadata": {},
   "outputs": [
    {
     "data": {
      "text/plain": [
       "{1, 2, 3, 4, 'a', 'b', 'c'}"
      ]
     },
     "execution_count": 31,
     "metadata": {},
     "output_type": "execute_result"
    }
   ],
   "source": [
    "myset"
   ]
  },
  {
   "cell_type": "code",
   "execution_count": 34,
   "id": "e0534d81",
   "metadata": {},
   "outputs": [
    {
     "data": {
      "text/plain": [
       "{1, 2, 3, 4, 'a', 'b', 'c'}"
      ]
     },
     "execution_count": 34,
     "metadata": {},
     "output_type": "execute_result"
    }
   ],
   "source": [
    "myset"
   ]
  },
  {
   "cell_type": "code",
   "execution_count": 36,
   "id": "dc17edcb",
   "metadata": {},
   "outputs": [],
   "source": [
    " a = mydict.values() "
   ]
  },
  {
   "cell_type": "code",
   "execution_count": 38,
   "id": "dae6ffdc",
   "metadata": {},
   "outputs": [],
   "source": [
    "myset.update(a)"
   ]
  },
  {
   "cell_type": "code",
   "execution_count": 39,
   "id": "a8ac0abf",
   "metadata": {},
   "outputs": [
    {
     "data": {
      "text/plain": [
       "{1, 2, 3, 4, 'a', 'b', 'c'}"
      ]
     },
     "execution_count": 39,
     "metadata": {},
     "output_type": "execute_result"
    }
   ],
   "source": [
    "myset"
   ]
  },
  {
   "cell_type": "code",
   "execution_count": 40,
   "id": "6d1143c8",
   "metadata": {},
   "outputs": [],
   "source": [
    "# we can also use the union method to add two sets together"
   ]
  },
  {
   "cell_type": "code",
   "execution_count": 41,
   "id": "78e50b74",
   "metadata": {},
   "outputs": [],
   "source": [
    "myset = set([1, 2, 3, 4, 5])"
   ]
  },
  {
   "cell_type": "code",
   "execution_count": 42,
   "id": "7add22df",
   "metadata": {},
   "outputs": [],
   "source": [
    "myset1= set([4, 5, 6, 7, 8])"
   ]
  },
  {
   "cell_type": "code",
   "execution_count": 43,
   "id": "1e0b63cb",
   "metadata": {},
   "outputs": [
    {
     "data": {
      "text/plain": [
       "{1, 2, 3, 4, 5, 6, 7, 8}"
      ]
     },
     "execution_count": 43,
     "metadata": {},
     "output_type": "execute_result"
    }
   ],
   "source": [
    "myset.union(myset1)"
   ]
  },
  {
   "cell_type": "code",
   "execution_count": 44,
   "id": "b474efbc",
   "metadata": {},
   "outputs": [
    {
     "data": {
      "text/plain": [
       "{1, 2, 3, 4, 5}"
      ]
     },
     "execution_count": 44,
     "metadata": {},
     "output_type": "execute_result"
    }
   ],
   "source": [
    "myset"
   ]
  },
  {
   "cell_type": "code",
   "execution_count": 46,
   "id": "fcf26e17",
   "metadata": {},
   "outputs": [],
   "source": [
    "myset2 = myset.union(myset1)"
   ]
  },
  {
   "cell_type": "code",
   "execution_count": 48,
   "id": "b1eba60f",
   "metadata": {},
   "outputs": [
    {
     "data": {
      "text/plain": [
       "{1, 2, 3, 4, 5, 6, 7, 8}"
      ]
     },
     "execution_count": 48,
     "metadata": {},
     "output_type": "execute_result"
    }
   ],
   "source": [
    "myset2"
   ]
  },
  {
   "cell_type": "code",
   "execution_count": 49,
   "id": "939998a5",
   "metadata": {},
   "outputs": [],
   "source": [
    "myset3 = myset2.difference(myset)"
   ]
  },
  {
   "cell_type": "code",
   "execution_count": 50,
   "id": "c7283fe2",
   "metadata": {},
   "outputs": [
    {
     "data": {
      "text/plain": [
       "{6, 7, 8}"
      ]
     },
     "execution_count": 50,
     "metadata": {},
     "output_type": "execute_result"
    }
   ],
   "source": [
    "myset3"
   ]
  },
  {
   "cell_type": "code",
   "execution_count": 51,
   "id": "eba73852",
   "metadata": {},
   "outputs": [],
   "source": [
    "# so as we can see that we can perform all the time of operations on sets like we do in traditional mathematics , intersection, union, difference etc"
   ]
  },
  {
   "cell_type": "code",
   "execution_count": null,
   "id": "e3a3fa84",
   "metadata": {},
   "outputs": [],
   "source": []
  }
 ],
 "metadata": {
  "kernelspec": {
   "display_name": "Python (qenv)",
   "language": "python",
   "name": "qenv"
  },
  "language_info": {
   "codemirror_mode": {
    "name": "ipython",
    "version": 3
   },
   "file_extension": ".py",
   "mimetype": "text/x-python",
   "name": "python",
   "nbconvert_exporter": "python",
   "pygments_lexer": "ipython3",
   "version": "3.13.5"
  }
 },
 "nbformat": 4,
 "nbformat_minor": 5
}
