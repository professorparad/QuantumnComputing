{
 "cells": [
  {
   "cell_type": "markdown",
   "id": "b2c5ebe7",
   "metadata": {},
   "source": [
    "#### As we know that SQL that is structured query language is a language or a tool used for performing different datbase operations and creating tables joining and connecting multiple tables using foreign keys and primary key etc but SQLITE is a inbult python serverless databse system used for inbult database creation and storing tabular forms of data "
   ]
  },
  {
   "cell_type": "code",
   "execution_count": 34,
   "id": "d08ef0dc",
   "metadata": {},
   "outputs": [],
   "source": [
    "import sqlite3\n"
   ]
  },
  {
   "cell_type": "code",
   "execution_count": 35,
   "id": "c47ef399",
   "metadata": {},
   "outputs": [],
   "source": [
    "connection = sqlite3.connect('Example1.db') ## as you can see this connection is a predefined variable in sqlite library now the syntax says tp create a new database called Examol1.db remeber the database name should always end with .db file extensions"
   ]
  },
  {
   "cell_type": "code",
   "execution_count": 36,
   "id": "cff4379b",
   "metadata": {},
   "outputs": [],
   "source": [
    "## niw w eneed to create a cursor object which is used to iterate over the tables and rows and column \n",
    "## syntax : cursor = connection.cursor()\n",
    "cursor = connection.cursor ()"
   ]
  },
  {
   "cell_type": "code",
   "execution_count": 37,
   "id": "5564ba3d",
   "metadata": {},
   "outputs": [],
   "source": [
    "### now we need to create a table \n",
    "cursor.execute('''\n",
    "CREATE TABLE  IF NOT EXISTS employees(id INTEGER PRIMARY KEY  , employee_name TEXT NOT NULL  , Age INTEGER , Department TEXT)\n",
    "''')\n",
    "connection.commit()"
   ]
  },
  {
   "cell_type": "code",
   "execution_count": 38,
   "id": "d2ce4386",
   "metadata": {},
   "outputs": [
    {
     "data": {
      "text/plain": [
       "<sqlite3.Cursor at 0x2a7d1e884c0>"
      ]
     },
     "execution_count": 38,
     "metadata": {},
     "output_type": "execute_result"
    }
   ],
   "source": [
    "## now selecting the elements form the table\n",
    "cursor.execute('''\n",
    "SELECT * FROM employees\n",
    "''')\n"
   ]
  },
  {
   "cell_type": "code",
   "execution_count": 39,
   "id": "94763cad",
   "metadata": {},
   "outputs": [],
   "source": [
    "### inserting data in table \n",
    "cursor.execute('''\n",
    "INSERT INTO employees\n",
    "VALUES (1 , \"Sparsho Chakraborty\" , 25 , \"Physics\"), \n",
    "       (2 , \"Sayantan Maitra\" , 22 , \"Electronics and Instrumentation\"),\n",
    "       (3 , \"Md Avaish Siddiqui\" , 23 , \"Electronics and Instrumentation\"),\n",
    "       (4 , \"Mohammad Alamgir\" , 21 , \"Electronics and Instrumentation\"), \n",
    "       (5 , \"Priyanka Sahu\" , 25 , \"Architecture\");\n",
    "''')\n",
    "connection.commit()\n"
   ]
  },
  {
   "cell_type": "code",
   "execution_count": 40,
   "id": "8730c94c",
   "metadata": {},
   "outputs": [
    {
     "name": "stdout",
     "output_type": "stream",
     "text": [
      "(1, 'Sparsho Chakraborty', 25, 'Physics')\n",
      "(2, 'Sayantan Maitra', 22, 'Electronics and Instrumentation')\n",
      "(3, 'Md Avaish Siddiqui', 23, 'Electronics and Instrumentation')\n",
      "(4, 'Mohammad Alamgir', 21, 'Electronics and Instrumentation')\n",
      "(5, 'Priyanka Sahu', 25, 'Architecture')\n"
     ]
    }
   ],
   "source": [
    "## now i need to print the data from the table what to do now \n",
    "cursor.execute(''' SELECT * FROM employees''')\n",
    "rows = cursor.fetchall()## this fetches the rows in the form of list on the rows \n",
    "\n",
    "## in order to print the rows we need to use and iterate\n",
    "for row in rows:\n",
    "    print(row)"
   ]
  },
  {
   "cell_type": "code",
   "execution_count": 41,
   "id": "5c81719d",
   "metadata": {},
   "outputs": [],
   "source": [
    "#using the update keyword in sqlite3\n",
    "\n",
    "cursor.execute(''' UPDATE employees\n",
    "                    SET Age = 34\n",
    "                    WHERE  employee_name = \"Sparsho Chakraborty\";\n",
    "''')\n",
    "connection.commit()"
   ]
  },
  {
   "cell_type": "code",
   "execution_count": 44,
   "id": "940b08b2",
   "metadata": {},
   "outputs": [
    {
     "name": "stdout",
     "output_type": "stream",
     "text": [
      "(1, 'Sparsho Chakraborty', 34, 'Physics')\n",
      "(2, 'Sayantan Maitra', 22, 'Electronics and Instrumentation')\n",
      "(3, 'Md Avaish Siddiqui', 23, 'Electronics and Instrumentation')\n",
      "(4, 'Mohammad Alamgir', 21, 'Electronics and Instrumentation')\n",
      "(5, 'Priyanka Sahu', 25, 'Architecture')\n"
     ]
    }
   ],
   "source": [
    "## now we can now print it \n",
    "cursor.execute(''' SELECT * FROM employees''')\n",
    "rows = cursor.fetchall()\n",
    "for row in rows:\n",
    "    print(row)"
   ]
  },
  {
   "cell_type": "code",
   "execution_count": 49,
   "id": "c0527d39",
   "metadata": {},
   "outputs": [
    {
     "name": "stdout",
     "output_type": "stream",
     "text": [
      "(1, 'Sparsho Chakraborty', 34, 'Physics')\n",
      "(2, 'Sayantan Maitra', 22, 'Electronics and Instrumentation')\n",
      "(3, 'Md Avaish Siddiqui', 23, 'Electronics and Instrumentation')\n",
      "(4, 'Mohammad Alamgir', 21, 'Electronics and Instrumentation')\n",
      "(5, 'Priyanka Sahu', 25, 'Architecture')\n"
     ]
    }
   ],
   "source": [
    "cursor.execute(''' SELECT * FROM Students''')\n",
    "rows = cursor.fetchall()\n",
    "for row in rows:\n",
    "    print(row)\n"
   ]
  },
  {
   "cell_type": "markdown",
   "id": "c3ab9e22",
   "metadata": {},
   "source": []
  },
  {
   "cell_type": "markdown",
   "id": "0adcfa19",
   "metadata": {},
   "source": []
  }
 ],
 "metadata": {
  "kernelspec": {
   "display_name": "qenv",
   "language": "python",
   "name": "python3"
  },
  "language_info": {
   "codemirror_mode": {
    "name": "ipython",
    "version": 3
   },
   "file_extension": ".py",
   "mimetype": "text/x-python",
   "name": "python",
   "nbconvert_exporter": "python",
   "pygments_lexer": "ipython3",
   "version": "3.13.5"
  }
 },
 "nbformat": 4,
 "nbformat_minor": 5
}
