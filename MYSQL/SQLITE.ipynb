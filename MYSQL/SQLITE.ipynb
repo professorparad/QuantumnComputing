{
 "cells": [
  {
   "cell_type": "markdown",
   "id": "b2c5ebe7",
   "metadata": {},
   "source": [
    "#### As we know that SQL that is structured query language is a language or a tool used for performing different datbase operations and creating tables joining and connecting multiple tables using foreign keys and primary key etc but SQLITE is a inbult python serverless databse system used for inbult database creation and storing tabular forms of data "
   ]
  },
  {
   "cell_type": "code",
   "execution_count": null,
   "id": "d08ef0dc",
   "metadata": {},
   "outputs": [],
   "source": [
    "import sqlite3\n"
   ]
  },
  {
   "cell_type": "code",
   "execution_count": 3,
   "id": "c47ef399",
   "metadata": {},
   "outputs": [],
   "source": [
    "connection = sqlite3.connect('Example1.db') ## as you can see this connection is a predefined variable in sqlite library now the syntax says tp create a new database called Examol1.db remeber the database name should always end with .db file extensions"
   ]
  },
  {
   "cell_type": "code",
   "execution_count": 4,
   "id": "cff4379b",
   "metadata": {},
   "outputs": [],
   "source": [
    "## niw w eneed to create a cursor object which is used to iterate over the tables and rows and column \n",
    "## syntax : cursor = connection.cursor()\n",
    "cursor = connection.cursor ()"
   ]
  },
  {
   "cell_type": "code",
   "execution_count": 7,
   "id": "5564ba3d",
   "metadata": {},
   "outputs": [],
   "source": [
    "### now we need to create a table \n",
    "cursor.execute('''\n",
    "CREATE TABLE  IF NOT EXISTS employees(id INTEGER PRIMARY KEY  , employee_name TEXT  , Age INTEGER , Department TEXT)\n",
    "''')\n",
    "connection.commit()"
   ]
  },
  {
   "cell_type": "code",
   "execution_count": 10,
   "id": "d2ce4386",
   "metadata": {},
   "outputs": [
    {
     "data": {
      "text/plain": [
       "<sqlite3.Cursor at 0x1a7c6c15ac0>"
      ]
     },
     "execution_count": 10,
     "metadata": {},
     "output_type": "execute_result"
    }
   ],
   "source": [
    "## now selecting the elements form the table\n",
    "cursor.execute('''\n",
    "SELECT * FROM employees\n",
    "''')\n"
   ]
  },
  {
   "cell_type": "code",
   "execution_count": null,
   "id": "94763cad",
   "metadata": {},
   "outputs": [],
   "source": [
    "### inserting data in table \n",
    "cursor.execute('''\n",
    "INSERT INTO employees\n",
    "VALUES (1 , \"Sparsho Chakraborty\" , 25 , \"Physics\"), \n",
    "       ()\n",
    "''')\n"
   ]
  },
  {
   "cell_type": "markdown",
   "id": "0adcfa19",
   "metadata": {},
   "source": []
  }
 ],
 "metadata": {
  "kernelspec": {
   "display_name": "qenv",
   "language": "python",
   "name": "python3"
  },
  "language_info": {
   "codemirror_mode": {
    "name": "ipython",
    "version": 3
   },
   "file_extension": ".py",
   "mimetype": "text/x-python",
   "name": "python",
   "nbconvert_exporter": "python",
   "pygments_lexer": "ipython3",
   "version": "3.13.5"
  }
 },
 "nbformat": 4,
 "nbformat_minor": 5
}
